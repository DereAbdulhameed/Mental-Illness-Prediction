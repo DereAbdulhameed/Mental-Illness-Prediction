{
 "cells": [
  {
   "cell_type": "markdown",
   "metadata": {},
   "source": [
    "Import the necessary libraries\n"
   ]
  },
  {
   "cell_type": "code",
   "execution_count": 155,
   "metadata": {},
   "outputs": [],
   "source": [
    "import pandas as pd\n",
    "import matplotlib.pyplot as plt\n",
    "import numpy as np\n",
    "import seaborn as sns\n",
    "from sklearn.impute import SimpleImputer"
   ]
  },
  {
   "cell_type": "code",
   "execution_count": 156,
   "metadata": {
    "scrolled": true
   },
   "outputs": [],
   "source": [
    "df = pd.read_csv('data.csv')"
   ]
  },
  {
   "cell_type": "code",
   "execution_count": 157,
   "metadata": {},
   "outputs": [],
   "source": [
    "data = df.copy()"
   ]
  },
  {
   "cell_type": "code",
   "execution_count": 158,
   "metadata": {
    "scrolled": true
   },
   "outputs": [
    {
     "data": {
      "text/html": [
       "<div>\n",
       "<style scoped>\n",
       "    .dataframe tbody tr th:only-of-type {\n",
       "        vertical-align: middle;\n",
       "    }\n",
       "\n",
       "    .dataframe tbody tr th {\n",
       "        vertical-align: top;\n",
       "    }\n",
       "\n",
       "    .dataframe thead th {\n",
       "        text-align: right;\n",
       "    }\n",
       "</style>\n",
       "<table border=\"1\" class=\"dataframe\">\n",
       "  <thead>\n",
       "    <tr style=\"text-align: right;\">\n",
       "      <th></th>\n",
       "      <th>Timestamp</th>\n",
       "      <th>Which level of medical training are you?</th>\n",
       "      <th>How old are you?</th>\n",
       "      <th>Religion</th>\n",
       "      <th>Are you married?</th>\n",
       "      <th>Marital Status of parents</th>\n",
       "      <th>Do you have a good support system that you can fall back on during financial crisis?</th>\n",
       "      <th>Do you have a good support system that you can fall back on during emotional crisis?</th>\n",
       "      <th>On an average, how many hours do you sleep daily?</th>\n",
       "      <th>Do you experience burnout, anxiety and depression especially when exams are getting closer?</th>\n",
       "      <th>...</th>\n",
       "      <th>Unnamed: 39</th>\n",
       "      <th>Unnamed: 40</th>\n",
       "      <th>Unnamed: 41</th>\n",
       "      <th>Unnamed: 42</th>\n",
       "      <th>Unnamed: 43</th>\n",
       "      <th>Unnamed: 44</th>\n",
       "      <th>Unnamed: 45</th>\n",
       "      <th>Unnamed: 46</th>\n",
       "      <th>Unnamed: 47</th>\n",
       "      <th>Unnamed: 48</th>\n",
       "    </tr>\n",
       "  </thead>\n",
       "  <tbody>\n",
       "    <tr>\n",
       "      <th>0</th>\n",
       "      <td>2021/02/23 3:39:04 AM PST</td>\n",
       "      <td>Clinical (500-600)</td>\n",
       "      <td>21-24</td>\n",
       "      <td>Islam</td>\n",
       "      <td>No</td>\n",
       "      <td>Married</td>\n",
       "      <td>No</td>\n",
       "      <td>NaN</td>\n",
       "      <td>4-6 hours</td>\n",
       "      <td>Yes</td>\n",
       "      <td>...</td>\n",
       "      <td>Yes</td>\n",
       "      <td>No</td>\n",
       "      <td>No</td>\n",
       "      <td>Yes</td>\n",
       "      <td>No</td>\n",
       "      <td>No</td>\n",
       "      <td>No</td>\n",
       "      <td>NaN</td>\n",
       "      <td>No</td>\n",
       "      <td>Disagree</td>\n",
       "    </tr>\n",
       "    <tr>\n",
       "      <th>1</th>\n",
       "      <td>2021/02/23 10:12:09 PM PST</td>\n",
       "      <td>Basic Medical(100-300)</td>\n",
       "      <td>21-24</td>\n",
       "      <td>Christianity</td>\n",
       "      <td>No</td>\n",
       "      <td>Married</td>\n",
       "      <td>No</td>\n",
       "      <td>No</td>\n",
       "      <td>6-8 hours</td>\n",
       "      <td>No</td>\n",
       "      <td>...</td>\n",
       "      <td>NaN</td>\n",
       "      <td>NaN</td>\n",
       "      <td>NaN</td>\n",
       "      <td>NaN</td>\n",
       "      <td>NaN</td>\n",
       "      <td>NaN</td>\n",
       "      <td>NaN</td>\n",
       "      <td>NaN</td>\n",
       "      <td>NaN</td>\n",
       "      <td>NaN</td>\n",
       "    </tr>\n",
       "    <tr>\n",
       "      <th>2</th>\n",
       "      <td>2021/02/23 10:22:06 PM PST</td>\n",
       "      <td>Basic Medical(100-300)</td>\n",
       "      <td>21-24</td>\n",
       "      <td>Christianity</td>\n",
       "      <td>No</td>\n",
       "      <td>Married</td>\n",
       "      <td>Yes</td>\n",
       "      <td>Yes</td>\n",
       "      <td>6-8 hours</td>\n",
       "      <td>Yes</td>\n",
       "      <td>...</td>\n",
       "      <td>NaN</td>\n",
       "      <td>NaN</td>\n",
       "      <td>NaN</td>\n",
       "      <td>NaN</td>\n",
       "      <td>NaN</td>\n",
       "      <td>NaN</td>\n",
       "      <td>NaN</td>\n",
       "      <td>NaN</td>\n",
       "      <td>NaN</td>\n",
       "      <td>NaN</td>\n",
       "    </tr>\n",
       "    <tr>\n",
       "      <th>3</th>\n",
       "      <td>2021/02/23 10:34:25 PM PST</td>\n",
       "      <td>Basic Medical(100-300)</td>\n",
       "      <td>16-20</td>\n",
       "      <td>Islam</td>\n",
       "      <td>No</td>\n",
       "      <td>Married</td>\n",
       "      <td>Yes</td>\n",
       "      <td>Yes</td>\n",
       "      <td>4-6 hours</td>\n",
       "      <td>Yes</td>\n",
       "      <td>...</td>\n",
       "      <td>NaN</td>\n",
       "      <td>NaN</td>\n",
       "      <td>NaN</td>\n",
       "      <td>NaN</td>\n",
       "      <td>NaN</td>\n",
       "      <td>NaN</td>\n",
       "      <td>NaN</td>\n",
       "      <td>NaN</td>\n",
       "      <td>NaN</td>\n",
       "      <td>NaN</td>\n",
       "    </tr>\n",
       "    <tr>\n",
       "      <th>4</th>\n",
       "      <td>2021/02/23 10:39:09 PM PST</td>\n",
       "      <td>Basic Medical(100-300)</td>\n",
       "      <td>16-20</td>\n",
       "      <td>Islam</td>\n",
       "      <td>No</td>\n",
       "      <td>Married</td>\n",
       "      <td>Yes</td>\n",
       "      <td>Yes</td>\n",
       "      <td>less than 4 hours</td>\n",
       "      <td>Yes</td>\n",
       "      <td>...</td>\n",
       "      <td>NaN</td>\n",
       "      <td>NaN</td>\n",
       "      <td>NaN</td>\n",
       "      <td>NaN</td>\n",
       "      <td>NaN</td>\n",
       "      <td>NaN</td>\n",
       "      <td>NaN</td>\n",
       "      <td>NaN</td>\n",
       "      <td>NaN</td>\n",
       "      <td>NaN</td>\n",
       "    </tr>\n",
       "  </tbody>\n",
       "</table>\n",
       "<p>5 rows × 49 columns</p>\n",
       "</div>"
      ],
      "text/plain": [
       "                    Timestamp Which level of medical training are you?  \\\n",
       "0   2021/02/23 3:39:04 AM PST                       Clinical (500-600)   \n",
       "1  2021/02/23 10:12:09 PM PST                   Basic Medical(100-300)   \n",
       "2  2021/02/23 10:22:06 PM PST                   Basic Medical(100-300)   \n",
       "3  2021/02/23 10:34:25 PM PST                   Basic Medical(100-300)   \n",
       "4  2021/02/23 10:39:09 PM PST                   Basic Medical(100-300)   \n",
       "\n",
       "  How old are you?      Religion Are you married? Marital Status of parents  \\\n",
       "0            21-24         Islam               No                   Married   \n",
       "1            21-24  Christianity               No                   Married   \n",
       "2            21-24  Christianity               No                   Married   \n",
       "3            16-20         Islam               No                   Married   \n",
       "4            16-20         Islam               No                   Married   \n",
       "\n",
       "  Do you have a good support system that you can fall back on during financial crisis?  \\\n",
       "0                                                 No                                     \n",
       "1                                                 No                                     \n",
       "2                                                Yes                                     \n",
       "3                                                Yes                                     \n",
       "4                                                Yes                                     \n",
       "\n",
       "  Do you have a good support system that you can fall back on during emotional crisis?  \\\n",
       "0                                                NaN                                     \n",
       "1                                                 No                                     \n",
       "2                                                Yes                                     \n",
       "3                                                Yes                                     \n",
       "4                                                Yes                                     \n",
       "\n",
       "  On an average, how many hours do you sleep daily?  \\\n",
       "0                                         4-6 hours   \n",
       "1                                         6-8 hours   \n",
       "2                                         6-8 hours   \n",
       "3                                         4-6 hours   \n",
       "4                                 less than 4 hours   \n",
       "\n",
       "  Do you experience burnout, anxiety and depression especially when exams are getting closer?  \\\n",
       "0                                                Yes                                            \n",
       "1                                                 No                                            \n",
       "2                                                Yes                                            \n",
       "3                                                Yes                                            \n",
       "4                                                Yes                                            \n",
       "\n",
       "   ... Unnamed: 39 Unnamed: 40 Unnamed: 41 Unnamed: 42 Unnamed: 43  \\\n",
       "0  ...         Yes          No          No         Yes          No   \n",
       "1  ...         NaN         NaN         NaN         NaN         NaN   \n",
       "2  ...         NaN         NaN         NaN         NaN         NaN   \n",
       "3  ...         NaN         NaN         NaN         NaN         NaN   \n",
       "4  ...         NaN         NaN         NaN         NaN         NaN   \n",
       "\n",
       "  Unnamed: 44 Unnamed: 45 Unnamed: 46 Unnamed: 47 Unnamed: 48  \n",
       "0          No          No         NaN          No    Disagree  \n",
       "1         NaN         NaN         NaN         NaN         NaN  \n",
       "2         NaN         NaN         NaN         NaN         NaN  \n",
       "3         NaN         NaN         NaN         NaN         NaN  \n",
       "4         NaN         NaN         NaN         NaN         NaN  \n",
       "\n",
       "[5 rows x 49 columns]"
      ]
     },
     "execution_count": 158,
     "metadata": {},
     "output_type": "execute_result"
    }
   ],
   "source": [
    "data.head()"
   ]
  },
  {
   "cell_type": "code",
   "execution_count": 159,
   "metadata": {},
   "outputs": [
    {
     "data": {
      "text/plain": [
       "(146, 49)"
      ]
     },
     "execution_count": 159,
     "metadata": {},
     "output_type": "execute_result"
    }
   ],
   "source": [
    "data.shape"
   ]
  },
  {
   "cell_type": "code",
   "execution_count": 160,
   "metadata": {
    "scrolled": true
   },
   "outputs": [
    {
     "name": "stdout",
     "output_type": "stream",
     "text": [
      "<class 'pandas.core.frame.DataFrame'>\n",
      "RangeIndex: 146 entries, 0 to 145\n",
      "Data columns (total 49 columns):\n",
      " #   Column                                                                                                      Non-Null Count  Dtype  \n",
      "---  ------                                                                                                      --------------  -----  \n",
      " 0   Timestamp                                                                                                   146 non-null    object \n",
      " 1   Which level of medical training are you?                                                                    146 non-null    object \n",
      " 2   How old are you?                                                                                            146 non-null    object \n",
      " 3   Religion                                                                                                    146 non-null    object \n",
      " 4   Are you married?                                                                                            146 non-null    object \n",
      " 5   Marital Status of parents                                                                                   142 non-null    object \n",
      " 6   Do you have a good support system that you can fall back on during financial crisis?                        146 non-null    object \n",
      " 7   Do you have a good support system that you can fall back on during emotional crisis?                        145 non-null    object \n",
      " 8   On an average, how many hours do you sleep daily?                                                           146 non-null    object \n",
      " 9   Do you experience burnout, anxiety and depression especially when exams are getting closer?                 146 non-null    object \n",
      " 10  Have you ever been hospitalized for a mental illness?                                                       145 non-null    object \n",
      " 11  Do you have reduced ability to concentrate for over a short period?                                         146 non-null    object \n",
      " 12  Do you have a long term physical health condition?                                                          145 non-null    object \n",
      " 13  Do you experience social isolation, withdrawal from friends and loneliness often?                           146 non-null    object \n",
      " 14  Do you experience hospital anxiety and depression?                                                          145 non-null    object \n",
      " 15  Have you ever experienced a childhood abuse, neglect or trauma?                                             145 non-null    object \n",
      " 16  Is there a history of mental illness in a blood relative, such as a parent or sibling?                      146 non-null    object \n",
      " 17  Which level have you had the toughest experience of your medical training?                                  134 non-null    object \n",
      " 18  Do you have any extracurricular activities to cool your mind off medicine?                                  145 non-null    object \n",
      " 19  Which extracurricular activities are you involved in? Kindly state them                                     79 non-null     object \n",
      " 20  Does learning in a congested classroom pose a problem to you?                                               145 non-null    object \n",
      " 21  Are you satisfied with being in medicine as a discipline                                                    145 non-null    object \n",
      " 22  How do you describe your assessment in medical school?                                                      146 non-null    object \n",
      " 23  Has your self-esteem been impacted negatively in medical school                                             145 non-null    object \n",
      " 24  On a grade of 1-5, where does your self-esteem fall? (1-lowest, 5-highest)                                  145 non-null    float64\n",
      " 25  How did your grades in medical school affect your self-esteem?                                              145 non-null    object \n",
      " 26  Have you ever had a resit exam in medical school?                                                           145 non-null    object \n",
      " 27  Have you ever repeated a class in medical school?                                                           145 non-null    object \n",
      " 28  Do you think you will be performing better if you were in another department?                               145 non-null    object \n",
      " 29  Have you ever had suicidal thoughts before?                                                                 146 non-null    object \n",
      " 30  Have you ever experienced a mental illness during your course of study?                                     146 non-null    object \n",
      " 31  If yes, kindly state the level                                                                              27 non-null     float64\n",
      " 32  Do you think mental illness is under diagnosed among medical students?                                      146 non-null    object \n",
      " 33  Could fear, stigma and its unintended influence on academic performance be a cause of its under diagnosis?  146 non-null    object \n",
      " 34  Have you ever visited a mental health expert?                                                               146 non-null    object \n",
      " 35  Over the last three months, have you experienced psychological stress?                                      146 non-null    object \n",
      " 36  Do you have a diagnosed mental health problem?                                                              146 non-null    object \n",
      " 37  If you have anything important that can help this study. Kindly state them here.                            14 non-null     object \n",
      " 38  Unnamed: 38                                                                                                 1 non-null      object \n",
      " 39  Unnamed: 39                                                                                                 1 non-null      object \n",
      " 40  Unnamed: 40                                                                                                 1 non-null      object \n",
      " 41  Unnamed: 41                                                                                                 1 non-null      object \n",
      " 42  Unnamed: 42                                                                                                 1 non-null      object \n",
      " 43  Unnamed: 43                                                                                                 1 non-null      object \n",
      " 44  Unnamed: 44                                                                                                 1 non-null      object \n",
      " 45  Unnamed: 45                                                                                                 1 non-null      object \n",
      " 46  Unnamed: 46                                                                                                 0 non-null      float64\n",
      " 47  Unnamed: 47                                                                                                 1 non-null      object \n",
      " 48  Unnamed: 48                                                                                                 1 non-null      object \n",
      "dtypes: float64(3), object(46)\n",
      "memory usage: 56.0+ KB\n"
     ]
    }
   ],
   "source": [
    "data.info()"
   ]
  },
  {
   "cell_type": "code",
   "execution_count": 161,
   "metadata": {},
   "outputs": [],
   "source": [
    "cols_to_drop = ['Timestamp','If you have anything important that can help this study. Kindly state them here.','Unnamed: 38','Unnamed: 39','Unnamed: 40','Unnamed: 41','Unnamed: 42','Unnamed: 43','Unnamed: 44','Unnamed: 45','Unnamed: 46','Unnamed: 47','Unnamed: 48']"
   ]
  },
  {
   "cell_type": "code",
   "execution_count": 162,
   "metadata": {},
   "outputs": [
    {
     "data": {
      "text/html": [
       "<div>\n",
       "<style scoped>\n",
       "    .dataframe tbody tr th:only-of-type {\n",
       "        vertical-align: middle;\n",
       "    }\n",
       "\n",
       "    .dataframe tbody tr th {\n",
       "        vertical-align: top;\n",
       "    }\n",
       "\n",
       "    .dataframe thead th {\n",
       "        text-align: right;\n",
       "    }\n",
       "</style>\n",
       "<table border=\"1\" class=\"dataframe\">\n",
       "  <thead>\n",
       "    <tr style=\"text-align: right;\">\n",
       "      <th></th>\n",
       "      <th>Which level of medical training are you?</th>\n",
       "      <th>How old are you?</th>\n",
       "      <th>Religion</th>\n",
       "      <th>Are you married?</th>\n",
       "      <th>Marital Status of parents</th>\n",
       "      <th>Do you have a good support system that you can fall back on during financial crisis?</th>\n",
       "      <th>Do you have a good support system that you can fall back on during emotional crisis?</th>\n",
       "      <th>On an average, how many hours do you sleep daily?</th>\n",
       "      <th>Do you experience burnout, anxiety and depression especially when exams are getting closer?</th>\n",
       "      <th>Have you ever been hospitalized for a mental illness?</th>\n",
       "      <th>...</th>\n",
       "      <th>Have you ever repeated a class in medical school?</th>\n",
       "      <th>Do you think you will be performing better if you were in another department?</th>\n",
       "      <th>Have you ever had suicidal thoughts before?</th>\n",
       "      <th>Have you ever experienced a mental illness during your course of study?</th>\n",
       "      <th>If yes, kindly state the level</th>\n",
       "      <th>Do you think mental illness is under diagnosed among medical students?</th>\n",
       "      <th>Could fear, stigma and its unintended influence on academic performance be a cause of its under diagnosis?</th>\n",
       "      <th>Have you ever visited a mental health expert?</th>\n",
       "      <th>Over the last three months, have you experienced psychological stress?</th>\n",
       "      <th>Do you have a diagnosed mental health problem?</th>\n",
       "    </tr>\n",
       "  </thead>\n",
       "  <tbody>\n",
       "    <tr>\n",
       "      <th>0</th>\n",
       "      <td>Clinical (500-600)</td>\n",
       "      <td>21-24</td>\n",
       "      <td>Islam</td>\n",
       "      <td>No</td>\n",
       "      <td>Married</td>\n",
       "      <td>No</td>\n",
       "      <td>NaN</td>\n",
       "      <td>4-6 hours</td>\n",
       "      <td>Yes</td>\n",
       "      <td>NaN</td>\n",
       "      <td>...</td>\n",
       "      <td>NaN</td>\n",
       "      <td>NaN</td>\n",
       "      <td>No</td>\n",
       "      <td>No</td>\n",
       "      <td>NaN</td>\n",
       "      <td>No</td>\n",
       "      <td>No</td>\n",
       "      <td>No</td>\n",
       "      <td>Yes</td>\n",
       "      <td>No</td>\n",
       "    </tr>\n",
       "    <tr>\n",
       "      <th>1</th>\n",
       "      <td>Basic Medical(100-300)</td>\n",
       "      <td>21-24</td>\n",
       "      <td>Christianity</td>\n",
       "      <td>No</td>\n",
       "      <td>Married</td>\n",
       "      <td>No</td>\n",
       "      <td>No</td>\n",
       "      <td>6-8 hours</td>\n",
       "      <td>No</td>\n",
       "      <td>No</td>\n",
       "      <td>...</td>\n",
       "      <td>No</td>\n",
       "      <td>Yes</td>\n",
       "      <td>No</td>\n",
       "      <td>No</td>\n",
       "      <td>NaN</td>\n",
       "      <td>Yes</td>\n",
       "      <td>Yes</td>\n",
       "      <td>No</td>\n",
       "      <td>Yes</td>\n",
       "      <td>No</td>\n",
       "    </tr>\n",
       "    <tr>\n",
       "      <th>2</th>\n",
       "      <td>Basic Medical(100-300)</td>\n",
       "      <td>21-24</td>\n",
       "      <td>Christianity</td>\n",
       "      <td>No</td>\n",
       "      <td>Married</td>\n",
       "      <td>Yes</td>\n",
       "      <td>Yes</td>\n",
       "      <td>6-8 hours</td>\n",
       "      <td>Yes</td>\n",
       "      <td>Yes</td>\n",
       "      <td>...</td>\n",
       "      <td>No</td>\n",
       "      <td>Yes</td>\n",
       "      <td>No</td>\n",
       "      <td>Yes</td>\n",
       "      <td>300.0</td>\n",
       "      <td>Yes</td>\n",
       "      <td>Yes</td>\n",
       "      <td>Yes</td>\n",
       "      <td>Yes</td>\n",
       "      <td>Yes</td>\n",
       "    </tr>\n",
       "    <tr>\n",
       "      <th>3</th>\n",
       "      <td>Basic Medical(100-300)</td>\n",
       "      <td>16-20</td>\n",
       "      <td>Islam</td>\n",
       "      <td>No</td>\n",
       "      <td>Married</td>\n",
       "      <td>Yes</td>\n",
       "      <td>Yes</td>\n",
       "      <td>4-6 hours</td>\n",
       "      <td>Yes</td>\n",
       "      <td>No</td>\n",
       "      <td>...</td>\n",
       "      <td>No</td>\n",
       "      <td>Yes</td>\n",
       "      <td>No</td>\n",
       "      <td>No</td>\n",
       "      <td>300.0</td>\n",
       "      <td>Yes</td>\n",
       "      <td>Yes</td>\n",
       "      <td>No</td>\n",
       "      <td>Yes</td>\n",
       "      <td>I do not know</td>\n",
       "    </tr>\n",
       "    <tr>\n",
       "      <th>4</th>\n",
       "      <td>Basic Medical(100-300)</td>\n",
       "      <td>16-20</td>\n",
       "      <td>Islam</td>\n",
       "      <td>No</td>\n",
       "      <td>Married</td>\n",
       "      <td>Yes</td>\n",
       "      <td>Yes</td>\n",
       "      <td>less than 4 hours</td>\n",
       "      <td>Yes</td>\n",
       "      <td>No</td>\n",
       "      <td>...</td>\n",
       "      <td>No</td>\n",
       "      <td>No</td>\n",
       "      <td>No</td>\n",
       "      <td>No</td>\n",
       "      <td>NaN</td>\n",
       "      <td>Yes</td>\n",
       "      <td>Yes</td>\n",
       "      <td>No</td>\n",
       "      <td>Yes</td>\n",
       "      <td>No</td>\n",
       "    </tr>\n",
       "    <tr>\n",
       "      <th>...</th>\n",
       "      <td>...</td>\n",
       "      <td>...</td>\n",
       "      <td>...</td>\n",
       "      <td>...</td>\n",
       "      <td>...</td>\n",
       "      <td>...</td>\n",
       "      <td>...</td>\n",
       "      <td>...</td>\n",
       "      <td>...</td>\n",
       "      <td>...</td>\n",
       "      <td>...</td>\n",
       "      <td>...</td>\n",
       "      <td>...</td>\n",
       "      <td>...</td>\n",
       "      <td>...</td>\n",
       "      <td>...</td>\n",
       "      <td>...</td>\n",
       "      <td>...</td>\n",
       "      <td>...</td>\n",
       "      <td>...</td>\n",
       "      <td>...</td>\n",
       "    </tr>\n",
       "    <tr>\n",
       "      <th>141</th>\n",
       "      <td>Basic Medical(100-300)</td>\n",
       "      <td>21-24</td>\n",
       "      <td>Islam</td>\n",
       "      <td>No</td>\n",
       "      <td>Married</td>\n",
       "      <td>No</td>\n",
       "      <td>Yes</td>\n",
       "      <td>6-8 hours</td>\n",
       "      <td>No</td>\n",
       "      <td>No</td>\n",
       "      <td>...</td>\n",
       "      <td>No</td>\n",
       "      <td>Yes</td>\n",
       "      <td>No</td>\n",
       "      <td>No</td>\n",
       "      <td>NaN</td>\n",
       "      <td>Yes</td>\n",
       "      <td>Yes</td>\n",
       "      <td>No</td>\n",
       "      <td>No</td>\n",
       "      <td>No</td>\n",
       "    </tr>\n",
       "    <tr>\n",
       "      <th>142</th>\n",
       "      <td>Basic Clinical(400)</td>\n",
       "      <td>21-24</td>\n",
       "      <td>Christianity</td>\n",
       "      <td>No</td>\n",
       "      <td>Married</td>\n",
       "      <td>No</td>\n",
       "      <td>No</td>\n",
       "      <td>4-6 hours</td>\n",
       "      <td>Yes</td>\n",
       "      <td>No</td>\n",
       "      <td>...</td>\n",
       "      <td>No</td>\n",
       "      <td>Yes</td>\n",
       "      <td>No</td>\n",
       "      <td>Yes</td>\n",
       "      <td>300.0</td>\n",
       "      <td>Yes</td>\n",
       "      <td>Yes</td>\n",
       "      <td>No</td>\n",
       "      <td>No</td>\n",
       "      <td>No</td>\n",
       "    </tr>\n",
       "    <tr>\n",
       "      <th>143</th>\n",
       "      <td>Basic Clinical(400)</td>\n",
       "      <td>21-24</td>\n",
       "      <td>Islam</td>\n",
       "      <td>No</td>\n",
       "      <td>Married</td>\n",
       "      <td>No</td>\n",
       "      <td>No</td>\n",
       "      <td>4-6 hours</td>\n",
       "      <td>Yes</td>\n",
       "      <td>Yes</td>\n",
       "      <td>...</td>\n",
       "      <td>No</td>\n",
       "      <td>No</td>\n",
       "      <td>Yes</td>\n",
       "      <td>Yes</td>\n",
       "      <td>NaN</td>\n",
       "      <td>Yes</td>\n",
       "      <td>Yes</td>\n",
       "      <td>No</td>\n",
       "      <td>Yes</td>\n",
       "      <td>I do not know</td>\n",
       "    </tr>\n",
       "    <tr>\n",
       "      <th>144</th>\n",
       "      <td>Clinical (500-600)</td>\n",
       "      <td>24-30</td>\n",
       "      <td>Christianity</td>\n",
       "      <td>No</td>\n",
       "      <td>Married</td>\n",
       "      <td>Yes</td>\n",
       "      <td>No</td>\n",
       "      <td>6-8 hours</td>\n",
       "      <td>No</td>\n",
       "      <td>No</td>\n",
       "      <td>...</td>\n",
       "      <td>No</td>\n",
       "      <td>Yes</td>\n",
       "      <td>No</td>\n",
       "      <td>No</td>\n",
       "      <td>NaN</td>\n",
       "      <td>Yes</td>\n",
       "      <td>Yes</td>\n",
       "      <td>No</td>\n",
       "      <td>Yes</td>\n",
       "      <td>No</td>\n",
       "    </tr>\n",
       "    <tr>\n",
       "      <th>145</th>\n",
       "      <td>Basic Clinical(400)</td>\n",
       "      <td>21-24</td>\n",
       "      <td>Islam</td>\n",
       "      <td>No</td>\n",
       "      <td>Married</td>\n",
       "      <td>Yes</td>\n",
       "      <td>Yes</td>\n",
       "      <td>4-6 hours</td>\n",
       "      <td>Yes</td>\n",
       "      <td>No</td>\n",
       "      <td>...</td>\n",
       "      <td>No</td>\n",
       "      <td>Yes</td>\n",
       "      <td>No</td>\n",
       "      <td>Yes</td>\n",
       "      <td>300.0</td>\n",
       "      <td>Yes</td>\n",
       "      <td>Yes</td>\n",
       "      <td>No</td>\n",
       "      <td>Yes</td>\n",
       "      <td>I do not know</td>\n",
       "    </tr>\n",
       "  </tbody>\n",
       "</table>\n",
       "<p>146 rows × 36 columns</p>\n",
       "</div>"
      ],
      "text/plain": [
       "    Which level of medical training are you? How old are you?      Religion  \\\n",
       "0                         Clinical (500-600)            21-24         Islam   \n",
       "1                     Basic Medical(100-300)            21-24  Christianity   \n",
       "2                     Basic Medical(100-300)            21-24  Christianity   \n",
       "3                     Basic Medical(100-300)            16-20         Islam   \n",
       "4                     Basic Medical(100-300)            16-20         Islam   \n",
       "..                                       ...              ...           ...   \n",
       "141                   Basic Medical(100-300)            21-24         Islam   \n",
       "142                      Basic Clinical(400)            21-24  Christianity   \n",
       "143                      Basic Clinical(400)            21-24         Islam   \n",
       "144                       Clinical (500-600)            24-30  Christianity   \n",
       "145                      Basic Clinical(400)            21-24         Islam   \n",
       "\n",
       "    Are you married? Marital Status of parents  \\\n",
       "0                 No                   Married   \n",
       "1                 No                   Married   \n",
       "2                 No                   Married   \n",
       "3                 No                   Married   \n",
       "4                 No                   Married   \n",
       "..               ...                       ...   \n",
       "141               No                   Married   \n",
       "142               No                   Married   \n",
       "143               No                   Married   \n",
       "144               No                   Married   \n",
       "145               No                   Married   \n",
       "\n",
       "    Do you have a good support system that you can fall back on during financial crisis?  \\\n",
       "0                                                   No                                     \n",
       "1                                                   No                                     \n",
       "2                                                  Yes                                     \n",
       "3                                                  Yes                                     \n",
       "4                                                  Yes                                     \n",
       "..                                                 ...                                     \n",
       "141                                                 No                                     \n",
       "142                                                 No                                     \n",
       "143                                                 No                                     \n",
       "144                                                Yes                                     \n",
       "145                                                Yes                                     \n",
       "\n",
       "    Do you have a good support system that you can fall back on during emotional crisis?  \\\n",
       "0                                                  NaN                                     \n",
       "1                                                   No                                     \n",
       "2                                                  Yes                                     \n",
       "3                                                  Yes                                     \n",
       "4                                                  Yes                                     \n",
       "..                                                 ...                                     \n",
       "141                                                Yes                                     \n",
       "142                                                 No                                     \n",
       "143                                                 No                                     \n",
       "144                                                 No                                     \n",
       "145                                                Yes                                     \n",
       "\n",
       "    On an average, how many hours do you sleep daily?  \\\n",
       "0                                           4-6 hours   \n",
       "1                                           6-8 hours   \n",
       "2                                           6-8 hours   \n",
       "3                                           4-6 hours   \n",
       "4                                   less than 4 hours   \n",
       "..                                                ...   \n",
       "141                                         6-8 hours   \n",
       "142                                         4-6 hours   \n",
       "143                                         4-6 hours   \n",
       "144                                         6-8 hours   \n",
       "145                                         4-6 hours   \n",
       "\n",
       "    Do you experience burnout, anxiety and depression especially when exams are getting closer?  \\\n",
       "0                                                  Yes                                            \n",
       "1                                                   No                                            \n",
       "2                                                  Yes                                            \n",
       "3                                                  Yes                                            \n",
       "4                                                  Yes                                            \n",
       "..                                                 ...                                            \n",
       "141                                                 No                                            \n",
       "142                                                Yes                                            \n",
       "143                                                Yes                                            \n",
       "144                                                 No                                            \n",
       "145                                                Yes                                            \n",
       "\n",
       "    Have you ever been hospitalized for a mental illness?   ...  \\\n",
       "0                                                  NaN      ...   \n",
       "1                                                   No      ...   \n",
       "2                                                  Yes      ...   \n",
       "3                                                   No      ...   \n",
       "4                                                   No      ...   \n",
       "..                                                 ...      ...   \n",
       "141                                                 No      ...   \n",
       "142                                                 No      ...   \n",
       "143                                                Yes      ...   \n",
       "144                                                 No      ...   \n",
       "145                                                 No      ...   \n",
       "\n",
       "    Have you ever repeated a class in medical school?  \\\n",
       "0                                                 NaN   \n",
       "1                                                  No   \n",
       "2                                                  No   \n",
       "3                                                  No   \n",
       "4                                                  No   \n",
       "..                                                ...   \n",
       "141                                                No   \n",
       "142                                                No   \n",
       "143                                                No   \n",
       "144                                                No   \n",
       "145                                                No   \n",
       "\n",
       "    Do you think you will be performing better if you were in another department?  \\\n",
       "0                                                  NaN                              \n",
       "1                                                  Yes                              \n",
       "2                                                  Yes                              \n",
       "3                                                  Yes                              \n",
       "4                                                   No                              \n",
       "..                                                 ...                              \n",
       "141                                                Yes                              \n",
       "142                                                Yes                              \n",
       "143                                                 No                              \n",
       "144                                                Yes                              \n",
       "145                                                Yes                              \n",
       "\n",
       "    Have you ever had suicidal thoughts before?  \\\n",
       "0                                            No   \n",
       "1                                            No   \n",
       "2                                            No   \n",
       "3                                            No   \n",
       "4                                            No   \n",
       "..                                          ...   \n",
       "141                                          No   \n",
       "142                                          No   \n",
       "143                                         Yes   \n",
       "144                                          No   \n",
       "145                                          No   \n",
       "\n",
       "    Have you ever experienced a mental illness during your course of study?  \\\n",
       "0                                                   No                        \n",
       "1                                                   No                        \n",
       "2                                                  Yes                        \n",
       "3                                                   No                        \n",
       "4                                                   No                        \n",
       "..                                                 ...                        \n",
       "141                                                 No                        \n",
       "142                                                Yes                        \n",
       "143                                                Yes                        \n",
       "144                                                 No                        \n",
       "145                                                Yes                        \n",
       "\n",
       "    If yes, kindly state the level  \\\n",
       "0                              NaN   \n",
       "1                              NaN   \n",
       "2                            300.0   \n",
       "3                            300.0   \n",
       "4                              NaN   \n",
       "..                             ...   \n",
       "141                            NaN   \n",
       "142                          300.0   \n",
       "143                            NaN   \n",
       "144                            NaN   \n",
       "145                          300.0   \n",
       "\n",
       "    Do you think mental illness is under diagnosed among medical students?  \\\n",
       "0                                                   No                       \n",
       "1                                                  Yes                       \n",
       "2                                                  Yes                       \n",
       "3                                                  Yes                       \n",
       "4                                                  Yes                       \n",
       "..                                                 ...                       \n",
       "141                                                Yes                       \n",
       "142                                                Yes                       \n",
       "143                                                Yes                       \n",
       "144                                                Yes                       \n",
       "145                                                Yes                       \n",
       "\n",
       "    Could fear, stigma and its unintended influence on academic performance be a cause of its under diagnosis?  \\\n",
       "0                                                   No                                                           \n",
       "1                                                  Yes                                                           \n",
       "2                                                  Yes                                                           \n",
       "3                                                  Yes                                                           \n",
       "4                                                  Yes                                                           \n",
       "..                                                 ...                                                           \n",
       "141                                                Yes                                                           \n",
       "142                                                Yes                                                           \n",
       "143                                                Yes                                                           \n",
       "144                                                Yes                                                           \n",
       "145                                                Yes                                                           \n",
       "\n",
       "    Have you ever visited a mental health expert?  \\\n",
       "0                                              No   \n",
       "1                                              No   \n",
       "2                                             Yes   \n",
       "3                                              No   \n",
       "4                                              No   \n",
       "..                                            ...   \n",
       "141                                            No   \n",
       "142                                            No   \n",
       "143                                            No   \n",
       "144                                            No   \n",
       "145                                            No   \n",
       "\n",
       "    Over the last three months, have you experienced psychological stress?  \\\n",
       "0                                                  Yes                       \n",
       "1                                                  Yes                       \n",
       "2                                                  Yes                       \n",
       "3                                                  Yes                       \n",
       "4                                                  Yes                       \n",
       "..                                                 ...                       \n",
       "141                                                 No                       \n",
       "142                                                 No                       \n",
       "143                                                Yes                       \n",
       "144                                                Yes                       \n",
       "145                                                Yes                       \n",
       "\n",
       "    Do you have a diagnosed mental health problem?  \n",
       "0                                               No  \n",
       "1                                               No  \n",
       "2                                              Yes  \n",
       "3                                    I do not know  \n",
       "4                                               No  \n",
       "..                                             ...  \n",
       "141                                             No  \n",
       "142                                             No  \n",
       "143                                  I do not know  \n",
       "144                                             No  \n",
       "145                                  I do not know  \n",
       "\n",
       "[146 rows x 36 columns]"
      ]
     },
     "execution_count": 162,
     "metadata": {},
     "output_type": "execute_result"
    }
   ],
   "source": [
    "data = data.drop(cols_to_drop, axis = 1)\n",
    "\n",
    "data"
   ]
  },
  {
   "cell_type": "code",
   "execution_count": 163,
   "metadata": {},
   "outputs": [],
   "source": [
    "data = data.drop(0, axis = 0)"
   ]
  },
  {
   "cell_type": "code",
   "execution_count": 164,
   "metadata": {},
   "outputs": [
    {
     "name": "stdout",
     "output_type": "stream",
     "text": [
      "<class 'pandas.core.frame.DataFrame'>\n",
      "Int64Index: 145 entries, 1 to 145\n",
      "Data columns (total 36 columns):\n",
      " #   Column                                                                                                      Non-Null Count  Dtype  \n",
      "---  ------                                                                                                      --------------  -----  \n",
      " 0   Which level of medical training are you?                                                                    145 non-null    object \n",
      " 1   How old are you?                                                                                            145 non-null    object \n",
      " 2   Religion                                                                                                    145 non-null    object \n",
      " 3   Are you married?                                                                                            145 non-null    object \n",
      " 4   Marital Status of parents                                                                                   141 non-null    object \n",
      " 5   Do you have a good support system that you can fall back on during financial crisis?                        145 non-null    object \n",
      " 6   Do you have a good support system that you can fall back on during emotional crisis?                        145 non-null    object \n",
      " 7   On an average, how many hours do you sleep daily?                                                           145 non-null    object \n",
      " 8   Do you experience burnout, anxiety and depression especially when exams are getting closer?                 145 non-null    object \n",
      " 9   Have you ever been hospitalized for a mental illness?                                                       145 non-null    object \n",
      " 10  Do you have reduced ability to concentrate for over a short period?                                         145 non-null    object \n",
      " 11  Do you have a long term physical health condition?                                                          145 non-null    object \n",
      " 12  Do you experience social isolation, withdrawal from friends and loneliness often?                           145 non-null    object \n",
      " 13  Do you experience hospital anxiety and depression?                                                          145 non-null    object \n",
      " 14  Have you ever experienced a childhood abuse, neglect or trauma?                                             145 non-null    object \n",
      " 15  Is there a history of mental illness in a blood relative, such as a parent or sibling?                      145 non-null    object \n",
      " 16  Which level have you had the toughest experience of your medical training?                                  133 non-null    object \n",
      " 17  Do you have any extracurricular activities to cool your mind off medicine?                                  145 non-null    object \n",
      " 18  Which extracurricular activities are you involved in? Kindly state them                                     79 non-null     object \n",
      " 19  Does learning in a congested classroom pose a problem to you?                                               145 non-null    object \n",
      " 20  Are you satisfied with being in medicine as a discipline                                                    145 non-null    object \n",
      " 21  How do you describe your assessment in medical school?                                                      145 non-null    object \n",
      " 22  Has your self-esteem been impacted negatively in medical school                                             145 non-null    object \n",
      " 23  On a grade of 1-5, where does your self-esteem fall? (1-lowest, 5-highest)                                  145 non-null    float64\n",
      " 24  How did your grades in medical school affect your self-esteem?                                              145 non-null    object \n",
      " 25  Have you ever had a resit exam in medical school?                                                           145 non-null    object \n",
      " 26  Have you ever repeated a class in medical school?                                                           145 non-null    object \n",
      " 27  Do you think you will be performing better if you were in another department?                               145 non-null    object \n",
      " 28  Have you ever had suicidal thoughts before?                                                                 145 non-null    object \n",
      " 29  Have you ever experienced a mental illness during your course of study?                                     145 non-null    object \n",
      " 30  If yes, kindly state the level                                                                              27 non-null     float64\n",
      " 31  Do you think mental illness is under diagnosed among medical students?                                      145 non-null    object \n",
      " 32  Could fear, stigma and its unintended influence on academic performance be a cause of its under diagnosis?  145 non-null    object \n",
      " 33  Have you ever visited a mental health expert?                                                               145 non-null    object \n",
      " 34  Over the last three months, have you experienced psychological stress?                                      145 non-null    object \n",
      " 35  Do you have a diagnosed mental health problem?                                                              145 non-null    object \n",
      "dtypes: float64(2), object(34)\n",
      "memory usage: 41.9+ KB\n"
     ]
    }
   ],
   "source": [
    "data.info()"
   ]
  },
  {
   "cell_type": "markdown",
   "metadata": {},
   "source": [
    "### Determining the nature of data we are working with"
   ]
  },
  {
   "cell_type": "code",
   "execution_count": 165,
   "metadata": {},
   "outputs": [
    {
     "data": {
      "text/plain": [
       "object     34\n",
       "float64     2\n",
       "dtype: int64"
      ]
     },
     "execution_count": 165,
     "metadata": {},
     "output_type": "execute_result"
    }
   ],
   "source": [
    "data.dtypes.value_counts()"
   ]
  },
  {
   "cell_type": "code",
   "execution_count": 166,
   "metadata": {},
   "outputs": [
    {
     "data": {
      "text/plain": [
       "Index(['Which level of medical training are you?', 'How old are you?',\n",
       "       'Religion', 'Are you married?', 'Marital Status of parents',\n",
       "       'Do you have a good support system that you can fall back on during financial crisis?',\n",
       "       'Do you have a good support system that you can fall back on during emotional crisis?',\n",
       "       'On an average, how many hours do you sleep daily?',\n",
       "       'Do you experience burnout, anxiety and depression especially when exams are getting closer?',\n",
       "       'Have you ever been hospitalized for a mental illness? ',\n",
       "       'Do you have reduced ability to concentrate for over a short period?',\n",
       "       'Do you have a long term physical health condition?',\n",
       "       'Do you experience social isolation, withdrawal from friends and loneliness often?',\n",
       "       'Do you experience hospital anxiety and depression?',\n",
       "       'Have you ever experienced a childhood abuse, neglect or trauma?',\n",
       "       'Is there a history of mental illness in a blood relative, such as a parent or sibling?',\n",
       "       'Which level have you had the toughest experience of your medical training?',\n",
       "       'Do you have any extracurricular activities to cool your mind off medicine?',\n",
       "       'Which extracurricular activities are you involved in? Kindly state them',\n",
       "       'Does learning in a congested classroom pose a problem to you?',\n",
       "       'Are you satisfied with being in medicine as a discipline',\n",
       "       'How do you describe your assessment in medical school?',\n",
       "       'Has your self-esteem been impacted negatively in medical school',\n",
       "       'How did your grades in medical school affect your self-esteem?',\n",
       "       'Have you ever had a resit exam in medical school?',\n",
       "       'Have you ever repeated a class in medical school?',\n",
       "       'Do you think you will be performing better if you were in another department?',\n",
       "       'Have you ever had suicidal thoughts before?',\n",
       "       'Have you ever experienced a mental illness during your course of study?',\n",
       "       'Do you think mental illness is under diagnosed among medical students?',\n",
       "       'Could fear, stigma and its unintended influence on academic performance be a cause of its under diagnosis?',\n",
       "       'Have you ever visited a mental health expert?',\n",
       "       'Over the last three months, have you experienced psychological stress?',\n",
       "       'Do you have a diagnosed mental health problem?'],\n",
       "      dtype='object')"
      ]
     },
     "execution_count": 166,
     "metadata": {},
     "output_type": "execute_result"
    }
   ],
   "source": [
    "data.dtypes[data.dtypes == 'object'].index"
   ]
  },
  {
   "cell_type": "code",
   "execution_count": 167,
   "metadata": {},
   "outputs": [
    {
     "data": {
      "text/plain": [
       "(145, 36)"
      ]
     },
     "execution_count": 167,
     "metadata": {},
     "output_type": "execute_result"
    }
   ],
   "source": [
    "data.shape"
   ]
  },
  {
   "cell_type": "markdown",
   "metadata": {},
   "source": [
    "### Data Visualization"
   ]
  },
  {
   "cell_type": "code",
   "execution_count": 168,
   "metadata": {},
   "outputs": [
    {
     "data": {
      "text/plain": [
       "Basic Medical(100-300)    95\n",
       "Clinical (500-600)        25\n",
       "Basic Clinical(400)       25\n",
       "Name: Which level of medical training are you?, dtype: int64"
      ]
     },
     "execution_count": 168,
     "metadata": {},
     "output_type": "execute_result"
    }
   ],
   "source": [
    "data['Which level of medical training are you?'].value_counts()"
   ]
  },
  {
   "cell_type": "code",
   "execution_count": 169,
   "metadata": {},
   "outputs": [
    {
     "data": {
      "text/plain": [
       "<AxesSubplot:>"
      ]
     },
     "execution_count": 169,
     "metadata": {},
     "output_type": "execute_result"
    },
    {
     "data": {
      "image/png": "[encoded data removed]",
      "text/plain": [
       "<Figure size 432x288 with 1 Axes>"
      ]
     },
     "metadata": {
      "needs_background": "light"
     },
     "output_type": "display_data"
    }
   ],
   "source": [
    "# This shows that most of the respondents were in their early years of the medical training\n",
    "data['Which level of medical training are you?'].value_counts().plot(kind= 'bar')"
   ]
  },
  {
   "cell_type": "code",
   "execution_count": 170,
   "metadata": {},
   "outputs": [
    {
     "data": {
      "text/plain": [
       "No               108\n",
       "I do not know     30\n",
       "Yes                7\n",
       "Name: Do you have a diagnosed mental health problem?, dtype: int64"
      ]
     },
     "execution_count": 170,
     "metadata": {},
     "output_type": "execute_result"
    }
   ],
   "source": [
    "data['Do you have a diagnosed mental health problem?'].value_counts()"
   ]
  },
  {
   "cell_type": "code",
   "execution_count": 171,
   "metadata": {},
   "outputs": [
    {
     "data": {
      "text/plain": [
       "21-24    65\n",
       "16-20    61\n",
       "24-30    18\n",
       "30+       1\n",
       "Name: How old are you?, dtype: int64"
      ]
     },
     "execution_count": 171,
     "metadata": {},
     "output_type": "execute_result"
    }
   ],
   "source": [
    "data['How old are you?'].value_counts()"
   ]
  },
  {
   "cell_type": "code",
   "execution_count": 172,
   "metadata": {},
   "outputs": [
    {
     "data": {
      "text/plain": [
       "<AxesSubplot:>"
      ]
     },
     "execution_count": 172,
     "metadata": {},
     "output_type": "execute_result"
    },
    {
     "data": {
      "image/png": "[encoded data removed]",
      "text/plain": [
       "<Figure size 432x288 with 1 Axes>"
      ]
     },
     "metadata": {
      "needs_background": "light"
     },
     "output_type": "display_data"
    }
   ],
   "source": [
    "# This shows that most of the respondents are in their early years.\n",
    "data['How old are you?'].value_counts().plot(kind= 'bar')"
   ]
  },
  {
   "cell_type": "code",
   "execution_count": 173,
   "metadata": {},
   "outputs": [
    {
     "data": {
      "text/plain": [
       "<AxesSubplot:>"
      ]
     },
     "execution_count": 173,
     "metadata": {},
     "output_type": "execute_result"
    },
    {
     "data": {
      "image/png": "[encoded data removed]",
      "text/plain": [
       "<Figure size 432x288 with 1 Axes>"
      ]
     },
     "metadata": {
      "needs_background": "light"
     },
     "output_type": "display_data"
    }
   ],
   "source": [
    "# Most of the respondents had a good financial support system\n",
    "data['Do you have a good support system that you can fall back on during financial crisis?'].value_counts().plot(kind = 'bar')"
   ]
  },
  {
   "cell_type": "code",
   "execution_count": 174,
   "metadata": {},
   "outputs": [
    {
     "data": {
      "text/plain": [
       "<AxesSubplot:>"
      ]
     },
     "execution_count": 174,
     "metadata": {},
     "output_type": "execute_result"
    },
    {
     "data": {
      "image/png": "[encoded data removed]",
      "text/plain": [
       "<Figure size 432x288 with 1 Axes>"
      ]
     },
     "metadata": {
      "needs_background": "light"
     },
     "output_type": "display_data"
    }
   ],
   "source": [
    "# Most of the respondents has a good emotional support system\n",
    "data['Do you have a good support system that you can fall back on during emotional crisis?'].value_counts().plot(kind = 'bar')"
   ]
  },
  {
   "cell_type": "code",
   "execution_count": 175,
   "metadata": {},
   "outputs": [
    {
     "data": {
      "text/plain": [
       "200         58\n",
       "300         36\n",
       "400         34\n",
       "Option 7     2\n",
       "100          2\n",
       "500          1\n",
       "Name: Which level have you had the toughest experience of your medical training?, dtype: int64"
      ]
     },
     "execution_count": 175,
     "metadata": {},
     "output_type": "execute_result"
    }
   ],
   "source": [
    "data['Which level have you had the toughest experience of your medical training?'].value_counts()"
   ]
  },
  {
   "cell_type": "code",
   "execution_count": 176,
   "metadata": {},
   "outputs": [
    {
     "data": {
      "text/plain": [
       "<AxesSubplot:>"
      ]
     },
     "execution_count": 176,
     "metadata": {},
     "output_type": "execute_result"
    },
    {
     "data": {
      "image/png": "[encoded data removed]",
      "text/plain": [
       "<Figure size 432x288 with 1 Axes>"
      ]
     },
     "metadata": {
      "needs_background": "light"
     },
     "output_type": "display_data"
    }
   ],
   "source": [
    "# This shows that majority of the respondents had their toughest experience in the 200 level\n",
    "data['Which level have you had the toughest experience of your medical training?'].value_counts().plot(kind = 'bar')"
   ]
  },
  {
   "cell_type": "markdown",
   "metadata": {},
   "source": [
    "### Preprocessing"
   ]
  },
  {
   "cell_type": "code",
   "execution_count": 177,
   "metadata": {
    "scrolled": true
   },
   "outputs": [
    {
     "data": {
      "text/html": [
       "<div>\n",
       "<style scoped>\n",
       "    .dataframe tbody tr th:only-of-type {\n",
       "        vertical-align: middle;\n",
       "    }\n",
       "\n",
       "    .dataframe tbody tr th {\n",
       "        vertical-align: top;\n",
       "    }\n",
       "\n",
       "    .dataframe thead th {\n",
       "        text-align: right;\n",
       "    }\n",
       "</style>\n",
       "<table border=\"1\" class=\"dataframe\">\n",
       "  <thead>\n",
       "    <tr style=\"text-align: right;\">\n",
       "      <th></th>\n",
       "      <th>Which level of medical training are you?</th>\n",
       "      <th>How old are you?</th>\n",
       "      <th>Religion</th>\n",
       "      <th>Are you married?</th>\n",
       "      <th>Marital Status of parents</th>\n",
       "      <th>Do you have a good support system that you can fall back on during financial crisis?</th>\n",
       "      <th>Do you have a good support system that you can fall back on during emotional crisis?</th>\n",
       "      <th>On an average, how many hours do you sleep daily?</th>\n",
       "      <th>Do you experience burnout, anxiety and depression especially when exams are getting closer?</th>\n",
       "      <th>Have you ever been hospitalized for a mental illness?</th>\n",
       "      <th>...</th>\n",
       "      <th>Have you ever repeated a class in medical school?</th>\n",
       "      <th>Do you think you will be performing better if you were in another department?</th>\n",
       "      <th>Have you ever had suicidal thoughts before?</th>\n",
       "      <th>Have you ever experienced a mental illness during your course of study?</th>\n",
       "      <th>If yes, kindly state the level</th>\n",
       "      <th>Do you think mental illness is under diagnosed among medical students?</th>\n",
       "      <th>Could fear, stigma and its unintended influence on academic performance be a cause of its under diagnosis?</th>\n",
       "      <th>Have you ever visited a mental health expert?</th>\n",
       "      <th>Over the last three months, have you experienced psychological stress?</th>\n",
       "      <th>Do you have a diagnosed mental health problem?</th>\n",
       "    </tr>\n",
       "  </thead>\n",
       "  <tbody>\n",
       "    <tr>\n",
       "      <th>1</th>\n",
       "      <td>Basic Medical(100-300)</td>\n",
       "      <td>21-24</td>\n",
       "      <td>Christianity</td>\n",
       "      <td>No</td>\n",
       "      <td>Married</td>\n",
       "      <td>No</td>\n",
       "      <td>No</td>\n",
       "      <td>6-8 hours</td>\n",
       "      <td>No</td>\n",
       "      <td>No</td>\n",
       "      <td>...</td>\n",
       "      <td>No</td>\n",
       "      <td>Yes</td>\n",
       "      <td>No</td>\n",
       "      <td>No</td>\n",
       "      <td>NaN</td>\n",
       "      <td>Yes</td>\n",
       "      <td>Yes</td>\n",
       "      <td>No</td>\n",
       "      <td>Yes</td>\n",
       "      <td>No</td>\n",
       "    </tr>\n",
       "    <tr>\n",
       "      <th>2</th>\n",
       "      <td>Basic Medical(100-300)</td>\n",
       "      <td>21-24</td>\n",
       "      <td>Christianity</td>\n",
       "      <td>No</td>\n",
       "      <td>Married</td>\n",
       "      <td>Yes</td>\n",
       "      <td>Yes</td>\n",
       "      <td>6-8 hours</td>\n",
       "      <td>Yes</td>\n",
       "      <td>Yes</td>\n",
       "      <td>...</td>\n",
       "      <td>No</td>\n",
       "      <td>Yes</td>\n",
       "      <td>No</td>\n",
       "      <td>Yes</td>\n",
       "      <td>300.0</td>\n",
       "      <td>Yes</td>\n",
       "      <td>Yes</td>\n",
       "      <td>Yes</td>\n",
       "      <td>Yes</td>\n",
       "      <td>Yes</td>\n",
       "    </tr>\n",
       "    <tr>\n",
       "      <th>3</th>\n",
       "      <td>Basic Medical(100-300)</td>\n",
       "      <td>16-20</td>\n",
       "      <td>Islam</td>\n",
       "      <td>No</td>\n",
       "      <td>Married</td>\n",
       "      <td>Yes</td>\n",
       "      <td>Yes</td>\n",
       "      <td>4-6 hours</td>\n",
       "      <td>Yes</td>\n",
       "      <td>No</td>\n",
       "      <td>...</td>\n",
       "      <td>No</td>\n",
       "      <td>Yes</td>\n",
       "      <td>No</td>\n",
       "      <td>No</td>\n",
       "      <td>300.0</td>\n",
       "      <td>Yes</td>\n",
       "      <td>Yes</td>\n",
       "      <td>No</td>\n",
       "      <td>Yes</td>\n",
       "      <td>I do not know</td>\n",
       "    </tr>\n",
       "    <tr>\n",
       "      <th>4</th>\n",
       "      <td>Basic Medical(100-300)</td>\n",
       "      <td>16-20</td>\n",
       "      <td>Islam</td>\n",
       "      <td>No</td>\n",
       "      <td>Married</td>\n",
       "      <td>Yes</td>\n",
       "      <td>Yes</td>\n",
       "      <td>less than 4 hours</td>\n",
       "      <td>Yes</td>\n",
       "      <td>No</td>\n",
       "      <td>...</td>\n",
       "      <td>No</td>\n",
       "      <td>No</td>\n",
       "      <td>No</td>\n",
       "      <td>No</td>\n",
       "      <td>NaN</td>\n",
       "      <td>Yes</td>\n",
       "      <td>Yes</td>\n",
       "      <td>No</td>\n",
       "      <td>Yes</td>\n",
       "      <td>No</td>\n",
       "    </tr>\n",
       "    <tr>\n",
       "      <th>5</th>\n",
       "      <td>Basic Medical(100-300)</td>\n",
       "      <td>16-20</td>\n",
       "      <td>Islam</td>\n",
       "      <td>No</td>\n",
       "      <td>Married</td>\n",
       "      <td>Yes</td>\n",
       "      <td>Yes</td>\n",
       "      <td>4-6 hours</td>\n",
       "      <td>Yes</td>\n",
       "      <td>No</td>\n",
       "      <td>...</td>\n",
       "      <td>No</td>\n",
       "      <td>Yes</td>\n",
       "      <td>Yes</td>\n",
       "      <td>No</td>\n",
       "      <td>NaN</td>\n",
       "      <td>Yes</td>\n",
       "      <td>Yes</td>\n",
       "      <td>No</td>\n",
       "      <td>Yes</td>\n",
       "      <td>I do not know</td>\n",
       "    </tr>\n",
       "  </tbody>\n",
       "</table>\n",
       "<p>5 rows × 36 columns</p>\n",
       "</div>"
      ],
      "text/plain": [
       "  Which level of medical training are you? How old are you?      Religion  \\\n",
       "1                   Basic Medical(100-300)            21-24  Christianity   \n",
       "2                   Basic Medical(100-300)            21-24  Christianity   \n",
       "3                   Basic Medical(100-300)            16-20         Islam   \n",
       "4                   Basic Medical(100-300)            16-20         Islam   \n",
       "5                   Basic Medical(100-300)            16-20         Islam   \n",
       "\n",
       "  Are you married? Marital Status of parents  \\\n",
       "1               No                   Married   \n",
       "2               No                   Married   \n",
       "3               No                   Married   \n",
       "4               No                   Married   \n",
       "5               No                   Married   \n",
       "\n",
       "  Do you have a good support system that you can fall back on during financial crisis?  \\\n",
       "1                                                 No                                     \n",
       "2                                                Yes                                     \n",
       "3                                                Yes                                     \n",
       "4                                                Yes                                     \n",
       "5                                                Yes                                     \n",
       "\n",
       "  Do you have a good support system that you can fall back on during emotional crisis?  \\\n",
       "1                                                 No                                     \n",
       "2                                                Yes                                     \n",
       "3                                                Yes                                     \n",
       "4                                                Yes                                     \n",
       "5                                                Yes                                     \n",
       "\n",
       "  On an average, how many hours do you sleep daily?  \\\n",
       "1                                         6-8 hours   \n",
       "2                                         6-8 hours   \n",
       "3                                         4-6 hours   \n",
       "4                                 less than 4 hours   \n",
       "5                                         4-6 hours   \n",
       "\n",
       "  Do you experience burnout, anxiety and depression especially when exams are getting closer?  \\\n",
       "1                                                 No                                            \n",
       "2                                                Yes                                            \n",
       "3                                                Yes                                            \n",
       "4                                                Yes                                            \n",
       "5                                                Yes                                            \n",
       "\n",
       "  Have you ever been hospitalized for a mental illness?   ...  \\\n",
       "1                                                 No      ...   \n",
       "2                                                Yes      ...   \n",
       "3                                                 No      ...   \n",
       "4                                                 No      ...   \n",
       "5                                                 No      ...   \n",
       "\n",
       "  Have you ever repeated a class in medical school?  \\\n",
       "1                                                No   \n",
       "2                                                No   \n",
       "3                                                No   \n",
       "4                                                No   \n",
       "5                                                No   \n",
       "\n",
       "  Do you think you will be performing better if you were in another department?  \\\n",
       "1                                                Yes                              \n",
       "2                                                Yes                              \n",
       "3                                                Yes                              \n",
       "4                                                 No                              \n",
       "5                                                Yes                              \n",
       "\n",
       "  Have you ever had suicidal thoughts before?  \\\n",
       "1                                          No   \n",
       "2                                          No   \n",
       "3                                          No   \n",
       "4                                          No   \n",
       "5                                         Yes   \n",
       "\n",
       "  Have you ever experienced a mental illness during your course of study?  \\\n",
       "1                                                 No                        \n",
       "2                                                Yes                        \n",
       "3                                                 No                        \n",
       "4                                                 No                        \n",
       "5                                                 No                        \n",
       "\n",
       "  If yes, kindly state the level  \\\n",
       "1                            NaN   \n",
       "2                          300.0   \n",
       "3                          300.0   \n",
       "4                            NaN   \n",
       "5                            NaN   \n",
       "\n",
       "  Do you think mental illness is under diagnosed among medical students?  \\\n",
       "1                                                Yes                       \n",
       "2                                                Yes                       \n",
       "3                                                Yes                       \n",
       "4                                                Yes                       \n",
       "5                                                Yes                       \n",
       "\n",
       "  Could fear, stigma and its unintended influence on academic performance be a cause of its under diagnosis?  \\\n",
       "1                                                Yes                                                           \n",
       "2                                                Yes                                                           \n",
       "3                                                Yes                                                           \n",
       "4                                                Yes                                                           \n",
       "5                                                Yes                                                           \n",
       "\n",
       "  Have you ever visited a mental health expert?  \\\n",
       "1                                            No   \n",
       "2                                           Yes   \n",
       "3                                            No   \n",
       "4                                            No   \n",
       "5                                            No   \n",
       "\n",
       "  Over the last three months, have you experienced psychological stress?  \\\n",
       "1                                                Yes                       \n",
       "2                                                Yes                       \n",
       "3                                                Yes                       \n",
       "4                                                Yes                       \n",
       "5                                                Yes                       \n",
       "\n",
       "  Do you have a diagnosed mental health problem?  \n",
       "1                                             No  \n",
       "2                                            Yes  \n",
       "3                                  I do not know  \n",
       "4                                             No  \n",
       "5                                  I do not know  \n",
       "\n",
       "[5 rows x 36 columns]"
      ]
     },
     "execution_count": 177,
     "metadata": {},
     "output_type": "execute_result"
    }
   ],
   "source": [
    "data.head()"
   ]
  },
  {
   "cell_type": "code",
   "execution_count": 178,
   "metadata": {},
   "outputs": [
    {
     "data": {
      "text/html": [
       "<div>\n",
       "<style scoped>\n",
       "    .dataframe tbody tr th:only-of-type {\n",
       "        vertical-align: middle;\n",
       "    }\n",
       "\n",
       "    .dataframe tbody tr th {\n",
       "        vertical-align: top;\n",
       "    }\n",
       "\n",
       "    .dataframe thead th {\n",
       "        text-align: right;\n",
       "    }\n",
       "</style>\n",
       "<table border=\"1\" class=\"dataframe\">\n",
       "  <thead>\n",
       "    <tr style=\"text-align: right;\">\n",
       "      <th></th>\n",
       "      <th>level</th>\n",
       "      <th>age</th>\n",
       "      <th>Religion</th>\n",
       "      <th>married</th>\n",
       "      <th>parents</th>\n",
       "      <th>fin_crisis</th>\n",
       "      <th>emo_crisis</th>\n",
       "      <th>sleep_avg</th>\n",
       "      <th>exam_burnout</th>\n",
       "      <th>Have you ever been hospitalized for a mental illness?</th>\n",
       "      <th>...</th>\n",
       "      <th>repeated</th>\n",
       "      <th>department_change</th>\n",
       "      <th>suicidal_thoughts</th>\n",
       "      <th>mental_illness_experience</th>\n",
       "      <th>mental_illness_level</th>\n",
       "      <th>mental_illness_diagnosis</th>\n",
       "      <th>underdiagnosis_reason</th>\n",
       "      <th>visit_to_expert</th>\n",
       "      <th>stress</th>\n",
       "      <th>mentally_ill</th>\n",
       "    </tr>\n",
       "  </thead>\n",
       "  <tbody>\n",
       "    <tr>\n",
       "      <th>1</th>\n",
       "      <td>Basic Medical(100-300)</td>\n",
       "      <td>21-24</td>\n",
       "      <td>Christianity</td>\n",
       "      <td>No</td>\n",
       "      <td>Married</td>\n",
       "      <td>No</td>\n",
       "      <td>No</td>\n",
       "      <td>6-8 hours</td>\n",
       "      <td>No</td>\n",
       "      <td>No</td>\n",
       "      <td>...</td>\n",
       "      <td>No</td>\n",
       "      <td>Yes</td>\n",
       "      <td>No</td>\n",
       "      <td>No</td>\n",
       "      <td>NaN</td>\n",
       "      <td>Yes</td>\n",
       "      <td>Yes</td>\n",
       "      <td>No</td>\n",
       "      <td>Yes</td>\n",
       "      <td>No</td>\n",
       "    </tr>\n",
       "    <tr>\n",
       "      <th>2</th>\n",
       "      <td>Basic Medical(100-300)</td>\n",
       "      <td>21-24</td>\n",
       "      <td>Christianity</td>\n",
       "      <td>No</td>\n",
       "      <td>Married</td>\n",
       "      <td>Yes</td>\n",
       "      <td>Yes</td>\n",
       "      <td>6-8 hours</td>\n",
       "      <td>Yes</td>\n",
       "      <td>Yes</td>\n",
       "      <td>...</td>\n",
       "      <td>No</td>\n",
       "      <td>Yes</td>\n",
       "      <td>No</td>\n",
       "      <td>Yes</td>\n",
       "      <td>300.0</td>\n",
       "      <td>Yes</td>\n",
       "      <td>Yes</td>\n",
       "      <td>Yes</td>\n",
       "      <td>Yes</td>\n",
       "      <td>Yes</td>\n",
       "    </tr>\n",
       "    <tr>\n",
       "      <th>3</th>\n",
       "      <td>Basic Medical(100-300)</td>\n",
       "      <td>16-20</td>\n",
       "      <td>Islam</td>\n",
       "      <td>No</td>\n",
       "      <td>Married</td>\n",
       "      <td>Yes</td>\n",
       "      <td>Yes</td>\n",
       "      <td>4-6 hours</td>\n",
       "      <td>Yes</td>\n",
       "      <td>No</td>\n",
       "      <td>...</td>\n",
       "      <td>No</td>\n",
       "      <td>Yes</td>\n",
       "      <td>No</td>\n",
       "      <td>No</td>\n",
       "      <td>300.0</td>\n",
       "      <td>Yes</td>\n",
       "      <td>Yes</td>\n",
       "      <td>No</td>\n",
       "      <td>Yes</td>\n",
       "      <td>I do not know</td>\n",
       "    </tr>\n",
       "    <tr>\n",
       "      <th>4</th>\n",
       "      <td>Basic Medical(100-300)</td>\n",
       "      <td>16-20</td>\n",
       "      <td>Islam</td>\n",
       "      <td>No</td>\n",
       "      <td>Married</td>\n",
       "      <td>Yes</td>\n",
       "      <td>Yes</td>\n",
       "      <td>less than 4 hours</td>\n",
       "      <td>Yes</td>\n",
       "      <td>No</td>\n",
       "      <td>...</td>\n",
       "      <td>No</td>\n",
       "      <td>No</td>\n",
       "      <td>No</td>\n",
       "      <td>No</td>\n",
       "      <td>NaN</td>\n",
       "      <td>Yes</td>\n",
       "      <td>Yes</td>\n",
       "      <td>No</td>\n",
       "      <td>Yes</td>\n",
       "      <td>No</td>\n",
       "    </tr>\n",
       "    <tr>\n",
       "      <th>5</th>\n",
       "      <td>Basic Medical(100-300)</td>\n",
       "      <td>16-20</td>\n",
       "      <td>Islam</td>\n",
       "      <td>No</td>\n",
       "      <td>Married</td>\n",
       "      <td>Yes</td>\n",
       "      <td>Yes</td>\n",
       "      <td>4-6 hours</td>\n",
       "      <td>Yes</td>\n",
       "      <td>No</td>\n",
       "      <td>...</td>\n",
       "      <td>No</td>\n",
       "      <td>Yes</td>\n",
       "      <td>Yes</td>\n",
       "      <td>No</td>\n",
       "      <td>NaN</td>\n",
       "      <td>Yes</td>\n",
       "      <td>Yes</td>\n",
       "      <td>No</td>\n",
       "      <td>Yes</td>\n",
       "      <td>I do not know</td>\n",
       "    </tr>\n",
       "  </tbody>\n",
       "</table>\n",
       "<p>5 rows × 36 columns</p>\n",
       "</div>"
      ],
      "text/plain": [
       "                    level    age      Religion married  parents fin_crisis  \\\n",
       "1  Basic Medical(100-300)  21-24  Christianity      No  Married         No   \n",
       "2  Basic Medical(100-300)  21-24  Christianity      No  Married        Yes   \n",
       "3  Basic Medical(100-300)  16-20         Islam      No  Married        Yes   \n",
       "4  Basic Medical(100-300)  16-20         Islam      No  Married        Yes   \n",
       "5  Basic Medical(100-300)  16-20         Islam      No  Married        Yes   \n",
       "\n",
       "  emo_crisis          sleep_avg exam_burnout  \\\n",
       "1         No          6-8 hours           No   \n",
       "2        Yes          6-8 hours          Yes   \n",
       "3        Yes          4-6 hours          Yes   \n",
       "4        Yes  less than 4 hours          Yes   \n",
       "5        Yes          4-6 hours          Yes   \n",
       "\n",
       "  Have you ever been hospitalized for a mental illness?   ... repeated  \\\n",
       "1                                                 No      ...       No   \n",
       "2                                                Yes      ...       No   \n",
       "3                                                 No      ...       No   \n",
       "4                                                 No      ...       No   \n",
       "5                                                 No      ...       No   \n",
       "\n",
       "  department_change suicidal_thoughts mental_illness_experience  \\\n",
       "1               Yes                No                        No   \n",
       "2               Yes                No                       Yes   \n",
       "3               Yes                No                        No   \n",
       "4                No                No                        No   \n",
       "5               Yes               Yes                        No   \n",
       "\n",
       "  mental_illness_level mental_illness_diagnosis underdiagnosis_reason  \\\n",
       "1                  NaN                      Yes                   Yes   \n",
       "2                300.0                      Yes                   Yes   \n",
       "3                300.0                      Yes                   Yes   \n",
       "4                  NaN                      Yes                   Yes   \n",
       "5                  NaN                      Yes                   Yes   \n",
       "\n",
       "  visit_to_expert stress   mentally_ill  \n",
       "1              No    Yes             No  \n",
       "2             Yes    Yes            Yes  \n",
       "3              No    Yes  I do not know  \n",
       "4              No    Yes             No  \n",
       "5              No    Yes  I do not know  \n",
       "\n",
       "[5 rows x 36 columns]"
      ]
     },
     "execution_count": 178,
     "metadata": {},
     "output_type": "execute_result"
    }
   ],
   "source": [
    "data.rename({'Which level of medical training are you?': 'level',\n",
    "             'How old are you?': 'age',\n",
    "             'Are you married?': 'married',\n",
    "             'Marital Status of parents': 'parents',\n",
    "             'Do you have a good support system that you can fall back on during financial crisis?': 'fin_crisis',\n",
    "             'Do you have a good support system that you can fall back on during emotional crisis?': 'emo_crisis',\n",
    "             'On an average, how many hours do you sleep daily?': 'sleep_avg',\n",
    "             'Do you experience burnout, anxiety and depression especially when exams are getting closer?': 'exam_burnout',\n",
    "             'Have you ever been hospitalized for a mental illness?': 'hospitalised',\n",
    "             'Do you have reduced ability to concentrate for over a short period?': 'concentration_reduced',\n",
    "             'Do you have a long term physical health condition?': 'health_issues_long',\n",
    "             'Do you experience social isolation, withdrawal from friends and loneliness often?': 'social_issues',\n",
    "             'Do you experience hospital anxiety and depression?': 'hospital_anxiety',\n",
    "             'Have you ever experienced a childhood abuse, neglect or trauma?': 'childhood_trauma',\n",
    "             'Is there a history of mental illness in a blood relative, such as a parent or sibling?': 'familial_history',\n",
    "             'Which level have you had the toughest experience of your medical training?': 'hardest_level',\n",
    "             'Do you have any extracurricular activities to cool your mind off medicine?': 'extracurricular',\n",
    "             'Which extracurricular activities are you involved in? Kindly state them': 'extracurricular_name',\n",
    "             'Does learning in a congested classroom pose a problem to you?': 'congestion_problem',\n",
    "             'Are you satisfied with being in medicine as a discipline': 'satisfaction',\n",
    "             'How do you describe your assessment in medical school?': 'assessment',\n",
    "             'Has your self-esteem been impacted negatively in medical school': 'self_esteem',\n",
    "             'On a grade of 1-5, where does your self-esteem fall? (1-lowest, 5-highest)': 'self_esteem_impact',\n",
    "             'Have you ever had a resit exam in medical school?': 'resit',\n",
    "             'Have you ever repeated a class in medical school?': 'repeated',\n",
    "             'Do you think you will be performing better if you were in another department?': 'department_change',\n",
    "             'Have you ever had suicidal thoughts before?': 'suicidal_thoughts',\n",
    "             'Have you ever experienced a mental illness during your course of study?':'mental_illness_experience',\n",
    "             'If yes, kindly state the level':'mental_illness_level',\n",
    "             'Do you think mental illness is under diagnosed among medical students?':'mental_illness_diagnosis',\n",
    "             'Could fear, stigma and its unintended influence on academic performance be a cause of its under diagnosis?':'underdiagnosis_reason',\n",
    "             'Have you ever visited a mental health expert?': 'visit_to_expert',\n",
    "             'Over the last three months, have you experienced psychological stress?':'stress',\n",
    "             'Do you have a diagnosed mental health problem?': 'mentally_ill'},\n",
    "            axis=1, inplace=True\n",
    "        \n",
    ")\n",
    "data.head()"
   ]
  },
  {
   "cell_type": "code",
   "execution_count": 179,
   "metadata": {
    "scrolled": true
   },
   "outputs": [
    {
     "data": {
      "text/html": [
       "<div>\n",
       "<style scoped>\n",
       "    .dataframe tbody tr th:only-of-type {\n",
       "        vertical-align: middle;\n",
       "    }\n",
       "\n",
       "    .dataframe tbody tr th {\n",
       "        vertical-align: top;\n",
       "    }\n",
       "\n",
       "    .dataframe thead th {\n",
       "        text-align: right;\n",
       "    }\n",
       "</style>\n",
       "<table border=\"1\" class=\"dataframe\">\n",
       "  <thead>\n",
       "    <tr style=\"text-align: right;\">\n",
       "      <th></th>\n",
       "      <th>level</th>\n",
       "      <th>age</th>\n",
       "      <th>Religion</th>\n",
       "      <th>married</th>\n",
       "      <th>parents</th>\n",
       "      <th>fin_crisis</th>\n",
       "      <th>emo_crisis</th>\n",
       "      <th>sleep_avg</th>\n",
       "      <th>exam_burnout</th>\n",
       "      <th>Have you ever been hospitalized for a mental illness?</th>\n",
       "      <th>...</th>\n",
       "      <th>repeated</th>\n",
       "      <th>department_change</th>\n",
       "      <th>suicidal_thoughts</th>\n",
       "      <th>mental_illness_experience</th>\n",
       "      <th>mental_illness_level</th>\n",
       "      <th>mental_illness_diagnosis</th>\n",
       "      <th>underdiagnosis_reason</th>\n",
       "      <th>visit_to_expert</th>\n",
       "      <th>stress</th>\n",
       "      <th>mentally_ill</th>\n",
       "    </tr>\n",
       "  </thead>\n",
       "  <tbody>\n",
       "    <tr>\n",
       "      <th>1</th>\n",
       "      <td>Basic Medical(100-300)</td>\n",
       "      <td>21-24</td>\n",
       "      <td>Christianity</td>\n",
       "      <td>No</td>\n",
       "      <td>Married</td>\n",
       "      <td>No</td>\n",
       "      <td>No</td>\n",
       "      <td>6-8 hours</td>\n",
       "      <td>No</td>\n",
       "      <td>No</td>\n",
       "      <td>...</td>\n",
       "      <td>No</td>\n",
       "      <td>Yes</td>\n",
       "      <td>No</td>\n",
       "      <td>No</td>\n",
       "      <td>NaN</td>\n",
       "      <td>Yes</td>\n",
       "      <td>Yes</td>\n",
       "      <td>No</td>\n",
       "      <td>Yes</td>\n",
       "      <td>No</td>\n",
       "    </tr>\n",
       "    <tr>\n",
       "      <th>2</th>\n",
       "      <td>Basic Medical(100-300)</td>\n",
       "      <td>21-24</td>\n",
       "      <td>Christianity</td>\n",
       "      <td>No</td>\n",
       "      <td>Married</td>\n",
       "      <td>Yes</td>\n",
       "      <td>Yes</td>\n",
       "      <td>6-8 hours</td>\n",
       "      <td>Yes</td>\n",
       "      <td>Yes</td>\n",
       "      <td>...</td>\n",
       "      <td>No</td>\n",
       "      <td>Yes</td>\n",
       "      <td>No</td>\n",
       "      <td>Yes</td>\n",
       "      <td>300.0</td>\n",
       "      <td>Yes</td>\n",
       "      <td>Yes</td>\n",
       "      <td>Yes</td>\n",
       "      <td>Yes</td>\n",
       "      <td>Yes</td>\n",
       "    </tr>\n",
       "  </tbody>\n",
       "</table>\n",
       "<p>2 rows × 36 columns</p>\n",
       "</div>"
      ],
      "text/plain": [
       "                    level    age      Religion married  parents fin_crisis  \\\n",
       "1  Basic Medical(100-300)  21-24  Christianity      No  Married         No   \n",
       "2  Basic Medical(100-300)  21-24  Christianity      No  Married        Yes   \n",
       "\n",
       "  emo_crisis  sleep_avg exam_burnout  \\\n",
       "1         No  6-8 hours           No   \n",
       "2        Yes  6-8 hours          Yes   \n",
       "\n",
       "  Have you ever been hospitalized for a mental illness?   ... repeated  \\\n",
       "1                                                 No      ...       No   \n",
       "2                                                Yes      ...       No   \n",
       "\n",
       "  department_change suicidal_thoughts mental_illness_experience  \\\n",
       "1               Yes                No                        No   \n",
       "2               Yes                No                       Yes   \n",
       "\n",
       "  mental_illness_level mental_illness_diagnosis underdiagnosis_reason  \\\n",
       "1                  NaN                      Yes                   Yes   \n",
       "2                300.0                      Yes                   Yes   \n",
       "\n",
       "  visit_to_expert stress mentally_ill  \n",
       "1              No    Yes           No  \n",
       "2             Yes    Yes          Yes  \n",
       "\n",
       "[2 rows x 36 columns]"
      ]
     },
     "execution_count": 179,
     "metadata": {},
     "output_type": "execute_result"
    }
   ],
   "source": [
    "data.head(2)"
   ]
  },
  {
   "cell_type": "code",
   "execution_count": 180,
   "metadata": {},
   "outputs": [],
   "source": [
    "new_data = ['level','age','hardest_level','fin_crisis','emo_crisis','exam_burnout','sleep_avg','self_esteem','social_issues','concentration_reduced', 'assessment','familial_history','extracurricular','suicidal_thoughts','mentally_ill']"
   ]
  },
  {
   "cell_type": "code",
   "execution_count": 181,
   "metadata": {},
   "outputs": [],
   "source": [
    "df2 = data[new_data]"
   ]
  },
  {
   "cell_type": "code",
   "execution_count": 182,
   "metadata": {},
   "outputs": [
    {
     "data": {
      "text/html": [
       "<div>\n",
       "<style scoped>\n",
       "    .dataframe tbody tr th:only-of-type {\n",
       "        vertical-align: middle;\n",
       "    }\n",
       "\n",
       "    .dataframe tbody tr th {\n",
       "        vertical-align: top;\n",
       "    }\n",
       "\n",
       "    .dataframe thead th {\n",
       "        text-align: right;\n",
       "    }\n",
       "</style>\n",
       "<table border=\"1\" class=\"dataframe\">\n",
       "  <thead>\n",
       "    <tr style=\"text-align: right;\">\n",
       "      <th></th>\n",
       "      <th>level</th>\n",
       "      <th>age</th>\n",
       "      <th>hardest_level</th>\n",
       "      <th>fin_crisis</th>\n",
       "      <th>emo_crisis</th>\n",
       "      <th>exam_burnout</th>\n",
       "      <th>sleep_avg</th>\n",
       "      <th>self_esteem</th>\n",
       "      <th>social_issues</th>\n",
       "      <th>concentration_reduced</th>\n",
       "      <th>assessment</th>\n",
       "      <th>familial_history</th>\n",
       "      <th>extracurricular</th>\n",
       "      <th>suicidal_thoughts</th>\n",
       "      <th>mentally_ill</th>\n",
       "    </tr>\n",
       "  </thead>\n",
       "  <tbody>\n",
       "    <tr>\n",
       "      <th>1</th>\n",
       "      <td>Basic Medical(100-300)</td>\n",
       "      <td>21-24</td>\n",
       "      <td>100</td>\n",
       "      <td>No</td>\n",
       "      <td>No</td>\n",
       "      <td>No</td>\n",
       "      <td>6-8 hours</td>\n",
       "      <td>Yes</td>\n",
       "      <td>Yes</td>\n",
       "      <td>No</td>\n",
       "      <td>Average</td>\n",
       "      <td>No</td>\n",
       "      <td>Yes</td>\n",
       "      <td>No</td>\n",
       "      <td>No</td>\n",
       "    </tr>\n",
       "    <tr>\n",
       "      <th>2</th>\n",
       "      <td>Basic Medical(100-300)</td>\n",
       "      <td>21-24</td>\n",
       "      <td>300</td>\n",
       "      <td>Yes</td>\n",
       "      <td>Yes</td>\n",
       "      <td>Yes</td>\n",
       "      <td>6-8 hours</td>\n",
       "      <td>Yes</td>\n",
       "      <td>No</td>\n",
       "      <td>No</td>\n",
       "      <td>Average</td>\n",
       "      <td>No</td>\n",
       "      <td>Yes</td>\n",
       "      <td>No</td>\n",
       "      <td>Yes</td>\n",
       "    </tr>\n",
       "    <tr>\n",
       "      <th>3</th>\n",
       "      <td>Basic Medical(100-300)</td>\n",
       "      <td>16-20</td>\n",
       "      <td>200</td>\n",
       "      <td>Yes</td>\n",
       "      <td>Yes</td>\n",
       "      <td>Yes</td>\n",
       "      <td>4-6 hours</td>\n",
       "      <td>Yes</td>\n",
       "      <td>No</td>\n",
       "      <td>Yes</td>\n",
       "      <td>Above Average</td>\n",
       "      <td>No</td>\n",
       "      <td>Yes</td>\n",
       "      <td>No</td>\n",
       "      <td>I do not know</td>\n",
       "    </tr>\n",
       "    <tr>\n",
       "      <th>4</th>\n",
       "      <td>Basic Medical(100-300)</td>\n",
       "      <td>16-20</td>\n",
       "      <td>300</td>\n",
       "      <td>Yes</td>\n",
       "      <td>Yes</td>\n",
       "      <td>Yes</td>\n",
       "      <td>less than 4 hours</td>\n",
       "      <td>No</td>\n",
       "      <td>No</td>\n",
       "      <td>Yes</td>\n",
       "      <td>Average</td>\n",
       "      <td>No</td>\n",
       "      <td>Yes</td>\n",
       "      <td>No</td>\n",
       "      <td>No</td>\n",
       "    </tr>\n",
       "    <tr>\n",
       "      <th>5</th>\n",
       "      <td>Basic Medical(100-300)</td>\n",
       "      <td>16-20</td>\n",
       "      <td>300</td>\n",
       "      <td>Yes</td>\n",
       "      <td>Yes</td>\n",
       "      <td>Yes</td>\n",
       "      <td>4-6 hours</td>\n",
       "      <td>Yes</td>\n",
       "      <td>Yes</td>\n",
       "      <td>No</td>\n",
       "      <td>Above Average</td>\n",
       "      <td>No</td>\n",
       "      <td>Yes</td>\n",
       "      <td>Yes</td>\n",
       "      <td>I do not know</td>\n",
       "    </tr>\n",
       "  </tbody>\n",
       "</table>\n",
       "</div>"
      ],
      "text/plain": [
       "                    level    age hardest_level fin_crisis emo_crisis  \\\n",
       "1  Basic Medical(100-300)  21-24           100         No         No   \n",
       "2  Basic Medical(100-300)  21-24           300        Yes        Yes   \n",
       "3  Basic Medical(100-300)  16-20           200        Yes        Yes   \n",
       "4  Basic Medical(100-300)  16-20           300        Yes        Yes   \n",
       "5  Basic Medical(100-300)  16-20           300        Yes        Yes   \n",
       "\n",
       "  exam_burnout          sleep_avg self_esteem social_issues  \\\n",
       "1           No          6-8 hours         Yes           Yes   \n",
       "2          Yes          6-8 hours         Yes            No   \n",
       "3          Yes          4-6 hours         Yes            No   \n",
       "4          Yes  less than 4 hours          No            No   \n",
       "5          Yes          4-6 hours         Yes           Yes   \n",
       "\n",
       "  concentration_reduced     assessment familial_history extracurricular  \\\n",
       "1                    No        Average               No             Yes   \n",
       "2                    No        Average               No             Yes   \n",
       "3                   Yes  Above Average               No             Yes   \n",
       "4                   Yes        Average               No             Yes   \n",
       "5                    No  Above Average               No             Yes   \n",
       "\n",
       "  suicidal_thoughts   mentally_ill  \n",
       "1                No             No  \n",
       "2                No            Yes  \n",
       "3                No  I do not know  \n",
       "4                No             No  \n",
       "5               Yes  I do not know  "
      ]
     },
     "execution_count": 182,
     "metadata": {},
     "output_type": "execute_result"
    }
   ],
   "source": [
    "df2.head()"
   ]
  },
  {
   "cell_type": "markdown",
   "metadata": {},
   "source": [
    "## Bivariate Analysis"
   ]
  },
  {
   "cell_type": "code",
   "execution_count": 26,
   "metadata": {},
   "outputs": [
    {
     "data": {
      "text/plain": [
       "<Figure size 720x504 with 0 Axes>"
      ]
     },
     "execution_count": 26,
     "metadata": {},
     "output_type": "execute_result"
    },
    {
     "data": {
      "image/png": "[encoded data removed]",
      "text/plain": [
       "<Figure size 432x288 with 1 Axes>"
      ]
     },
     "metadata": {
      "needs_background": "light"
     },
     "output_type": "display_data"
    },
    {
     "data": {
      "text/plain": [
       "<Figure size 720x504 with 0 Axes>"
      ]
     },
     "metadata": {},
     "output_type": "display_data"
    }
   ],
   "source": [
    "# social isolation and mental illness\n",
    "\n",
    "gender = pd.crosstab(data['social_issues'], data['mentally_ill'])\n",
    "gender.div(gender.sum().astype(float), axis=1).plot(kind='bar', stacked=False)\n",
    "\n",
    "\n",
    "\n",
    "plt.xticks(rotation= 0)\n",
    "plt.figure(figsize= (10,7))"
   ]
  },
  {
   "cell_type": "code",
   "execution_count": 27,
   "metadata": {},
   "outputs": [
    {
     "data": {
      "text/plain": [
       "<Figure size 720x504 with 0 Axes>"
      ]
     },
     "execution_count": 27,
     "metadata": {},
     "output_type": "execute_result"
    },
    {
     "data": {
      "image/png": "[encoded data removed]",
      "text/plain": [
       "<Figure size 432x288 with 1 Axes>"
      ]
     },
     "metadata": {
      "needs_background": "light"
     },
     "output_type": "display_data"
    },
    {
     "data": {
      "text/plain": [
       "<Figure size 720x504 with 0 Axes>"
      ]
     },
     "metadata": {},
     "output_type": "display_data"
    }
   ],
   "source": [
    "# Age and mentally ill\n",
    "\n",
    "gender = pd.crosstab(data['age'], data['mentally_ill'])\n",
    "gender.div(gender.sum().astype(float), axis=1).plot(kind='bar', stacked=False)\n",
    "\n",
    "\n",
    "\n",
    "plt.xticks(rotation= 0)\n",
    "plt.figure(figsize= (10,7))"
   ]
  },
  {
   "cell_type": "code",
   "execution_count": 28,
   "metadata": {},
   "outputs": [
    {
     "data": {
      "text/html": [
       "<div>\n",
       "<style scoped>\n",
       "    .dataframe tbody tr th:only-of-type {\n",
       "        vertical-align: middle;\n",
       "    }\n",
       "\n",
       "    .dataframe tbody tr th {\n",
       "        vertical-align: top;\n",
       "    }\n",
       "\n",
       "    .dataframe thead th {\n",
       "        text-align: right;\n",
       "    }\n",
       "</style>\n",
       "<table border=\"1\" class=\"dataframe\">\n",
       "  <thead>\n",
       "    <tr style=\"text-align: right;\">\n",
       "      <th>mentally_ill</th>\n",
       "      <th>I do not know</th>\n",
       "      <th>No</th>\n",
       "      <th>Yes</th>\n",
       "    </tr>\n",
       "    <tr>\n",
       "      <th>age</th>\n",
       "      <th></th>\n",
       "      <th></th>\n",
       "      <th></th>\n",
       "    </tr>\n",
       "  </thead>\n",
       "  <tbody>\n",
       "    <tr>\n",
       "      <th>16-20</th>\n",
       "      <td>40.0</td>\n",
       "      <td>43.0</td>\n",
       "      <td>43.0</td>\n",
       "    </tr>\n",
       "    <tr>\n",
       "      <th>21-24</th>\n",
       "      <td>47.0</td>\n",
       "      <td>44.0</td>\n",
       "      <td>57.0</td>\n",
       "    </tr>\n",
       "    <tr>\n",
       "      <th>24-30</th>\n",
       "      <td>10.0</td>\n",
       "      <td>14.0</td>\n",
       "      <td>0.0</td>\n",
       "    </tr>\n",
       "    <tr>\n",
       "      <th>30+</th>\n",
       "      <td>3.0</td>\n",
       "      <td>0.0</td>\n",
       "      <td>0.0</td>\n",
       "    </tr>\n",
       "  </tbody>\n",
       "</table>\n",
       "</div>"
      ],
      "text/plain": [
       "mentally_ill  I do not know    No   Yes\n",
       "age                                    \n",
       "16-20                  40.0  43.0  43.0\n",
       "21-24                  47.0  44.0  57.0\n",
       "24-30                  10.0  14.0   0.0\n",
       "30+                     3.0   0.0   0.0"
      ]
     },
     "execution_count": 28,
     "metadata": {},
     "output_type": "execute_result"
    }
   ],
   "source": [
    "gender = pd.crosstab(data['age'], data['mentally_ill'])\n",
    "round((gender.div(gender.sum().astype(int), axis=1)) * 100)\n",
    "# .plot(kind='bar', stacked=False)\n",
    "\n",
    "\n",
    "\n",
    "# plt.xticks(rotation= 0)\n",
    "# plt.figure(figsize= (10,7))"
   ]
  },
  {
   "cell_type": "code",
   "execution_count": 29,
   "metadata": {
    "scrolled": true
   },
   "outputs": [
    {
     "data": {
      "text/plain": [
       "<Figure size 720x504 with 0 Axes>"
      ]
     },
     "execution_count": 29,
     "metadata": {},
     "output_type": "execute_result"
    },
    {
     "data": {
      "image/png": "[encoded data removed]",
      "text/plain": [
       "<Figure size 432x288 with 1 Axes>"
      ]
     },
     "metadata": {
      "needs_background": "light"
     },
     "output_type": "display_data"
    },
    {
     "data": {
      "text/plain": [
       "<Figure size 720x504 with 0 Axes>"
      ]
     },
     "metadata": {},
     "output_type": "display_data"
    }
   ],
   "source": [
    "# self esteem and mental illness\n",
    "\n",
    "gender = pd.crosstab(data['self_esteem'], data['mentally_ill'])\n",
    "gender.div(gender.sum().astype(float), axis=1).plot(kind='bar', stacked=False)\n",
    "\n",
    "\n",
    "\n",
    "plt.xticks(rotation= 0)\n",
    "plt.figure(figsize= (10,7))"
   ]
  },
  {
   "cell_type": "code",
   "execution_count": 30,
   "metadata": {},
   "outputs": [
    {
     "data": {
      "text/html": [
       "<div>\n",
       "<style scoped>\n",
       "    .dataframe tbody tr th:only-of-type {\n",
       "        vertical-align: middle;\n",
       "    }\n",
       "\n",
       "    .dataframe tbody tr th {\n",
       "        vertical-align: top;\n",
       "    }\n",
       "\n",
       "    .dataframe thead th {\n",
       "        text-align: right;\n",
       "    }\n",
       "</style>\n",
       "<table border=\"1\" class=\"dataframe\">\n",
       "  <thead>\n",
       "    <tr style=\"text-align: right;\">\n",
       "      <th>mentally_ill</th>\n",
       "      <th>I do not know</th>\n",
       "      <th>No</th>\n",
       "      <th>Yes</th>\n",
       "    </tr>\n",
       "    <tr>\n",
       "      <th>self_esteem</th>\n",
       "      <th></th>\n",
       "      <th></th>\n",
       "      <th></th>\n",
       "    </tr>\n",
       "  </thead>\n",
       "  <tbody>\n",
       "    <tr>\n",
       "      <th>No</th>\n",
       "      <td>33.0</td>\n",
       "      <td>49.0</td>\n",
       "      <td>0.0</td>\n",
       "    </tr>\n",
       "    <tr>\n",
       "      <th>Yes</th>\n",
       "      <td>67.0</td>\n",
       "      <td>51.0</td>\n",
       "      <td>100.0</td>\n",
       "    </tr>\n",
       "  </tbody>\n",
       "</table>\n",
       "</div>"
      ],
      "text/plain": [
       "mentally_ill  I do not know    No    Yes\n",
       "self_esteem                             \n",
       "No                     33.0  49.0    0.0\n",
       "Yes                    67.0  51.0  100.0"
      ]
     },
     "execution_count": 30,
     "metadata": {},
     "output_type": "execute_result"
    }
   ],
   "source": [
    "gender = pd.crosstab(data['self_esteem'], data['mentally_ill'])\n",
    "round((gender.div(gender.sum().astype(float), axis=1))*100)\n",
    "# .plot(kind='bar', stacked=False)\n"
   ]
  },
  {
   "cell_type": "code",
   "execution_count": 31,
   "metadata": {
    "scrolled": true
   },
   "outputs": [
    {
     "data": {
      "text/plain": [
       "<Figure size 720x504 with 0 Axes>"
      ]
     },
     "execution_count": 31,
     "metadata": {},
     "output_type": "execute_result"
    },
    {
     "data": {
      "image/png": "[encoded data removed]",
      "text/plain": [
       "<Figure size 432x288 with 1 Axes>"
      ]
     },
     "metadata": {
      "needs_background": "light"
     },
     "output_type": "display_data"
    },
    {
     "data": {
      "text/plain": [
       "<Figure size 720x504 with 0 Axes>"
      ]
     },
     "metadata": {},
     "output_type": "display_data"
    }
   ],
   "source": [
    "gender = pd.crosstab(data['stress'], data['mentally_ill'])\n",
    "gender.div(gender.sum().astype(float), axis=1).plot(kind='bar', stacked=False)\n",
    "\n",
    "\n",
    "\n",
    "plt.xticks(rotation= 0)\n",
    "plt.figure(figsize= (10,7))"
   ]
  },
  {
   "cell_type": "code",
   "execution_count": 32,
   "metadata": {},
   "outputs": [
    {
     "data": {
      "text/plain": [
       "<Figure size 720x504 with 0 Axes>"
      ]
     },
     "execution_count": 32,
     "metadata": {},
     "output_type": "execute_result"
    },
    {
     "data": {
      "image/png": "[encoded data removed]",
      "text/plain": [
       "<Figure size 432x288 with 1 Axes>"
      ]
     },
     "metadata": {
      "needs_background": "light"
     },
     "output_type": "display_data"
    },
    {
     "data": {
      "text/plain": [
       "<Figure size 720x504 with 0 Axes>"
      ]
     },
     "metadata": {},
     "output_type": "display_data"
    }
   ],
   "source": [
    "# financial problem and suicidal thoughts\n",
    "\n",
    "gender = pd.crosstab(data['fin_crisis'], data['suicidal_thoughts'])\n",
    "gender.div(gender.sum().astype(float), axis=1).plot(kind='bar', stacked=False)\n",
    "\n",
    "\n",
    "\n",
    "plt.xticks(rotation= 0)\n",
    "plt.figure(figsize= (10,7))"
   ]
  },
  {
   "cell_type": "code",
   "execution_count": 33,
   "metadata": {},
   "outputs": [
    {
     "data": {
      "text/plain": [
       "<Figure size 720x504 with 0 Axes>"
      ]
     },
     "execution_count": 33,
     "metadata": {},
     "output_type": "execute_result"
    },
    {
     "data": {
      "image/png": "[encoded data removed]",
      "text/plain": [
       "<Figure size 432x288 with 1 Axes>"
      ]
     },
     "metadata": {
      "needs_background": "light"
     },
     "output_type": "display_data"
    },
    {
     "data": {
      "text/plain": [
       "<Figure size 720x504 with 0 Axes>"
      ]
     },
     "metadata": {},
     "output_type": "display_data"
    }
   ],
   "source": [
    "# \n",
    "gender = pd.crosstab(data['age'], data['suicidal_thoughts'])\n",
    "gender.div(gender.sum().astype(float), axis=1).plot(kind='bar', stacked=False)\n",
    "\n",
    "\n",
    "\n",
    "plt.xticks(rotation= 0)\n",
    "plt.figure(figsize= (10,7))"
   ]
  },
  {
   "cell_type": "code",
   "execution_count": 34,
   "metadata": {},
   "outputs": [
    {
     "data": {
      "text/plain": [
       "<Figure size 720x504 with 0 Axes>"
      ]
     },
     "execution_count": 34,
     "metadata": {},
     "output_type": "execute_result"
    },
    {
     "data": {
      "image/png": "[encoded data removed]",
      "text/plain": [
       "<Figure size 432x288 with 1 Axes>"
      ]
     },
     "metadata": {
      "needs_background": "light"
     },
     "output_type": "display_data"
    },
    {
     "data": {
      "text/plain": [
       "<Figure size 720x504 with 0 Axes>"
      ]
     },
     "metadata": {},
     "output_type": "display_data"
    }
   ],
   "source": [
    "gender = pd.crosstab(data['sleep_avg'], data['mentally_ill'])\n",
    "gender.div(gender.sum().astype(float), axis=1).plot(kind='bar', stacked=False)\n",
    "\n",
    "\n",
    "\n",
    "plt.xticks(rotation= 0)\n",
    "plt.figure(figsize= (10,7))"
   ]
  },
  {
   "cell_type": "code",
   "execution_count": 35,
   "metadata": {},
   "outputs": [
    {
     "data": {
      "text/plain": [
       "<Figure size 720x504 with 0 Axes>"
      ]
     },
     "execution_count": 35,
     "metadata": {},
     "output_type": "execute_result"
    },
    {
     "data": {
      "image/png": "[encoded data removed]",
      "text/plain": [
       "<Figure size 432x288 with 1 Axes>"
      ]
     },
     "metadata": {
      "needs_background": "light"
     },
     "output_type": "display_data"
    },
    {
     "data": {
      "text/plain": [
       "<Figure size 720x504 with 0 Axes>"
      ]
     },
     "metadata": {},
     "output_type": "display_data"
    }
   ],
   "source": [
    "gender = pd.crosstab(data['mental_illness_experience'], data['visit_to_expert'])\n",
    "gender.div(gender.sum().astype(float), axis=1).plot(kind='bar', stacked=False)\n",
    "\n",
    "\n",
    "\n",
    "plt.xticks(rotation= 0)\n",
    "plt.figure(figsize= (10,7))"
   ]
  },
  {
   "cell_type": "code",
   "execution_count": 36,
   "metadata": {
    "scrolled": false
   },
   "outputs": [
    {
     "data": {
      "text/plain": [
       "<Figure size 720x504 with 0 Axes>"
      ]
     },
     "execution_count": 36,
     "metadata": {},
     "output_type": "execute_result"
    },
    {
     "data": {
      "image/png": "[encoded data removed]",
      "text/plain": [
       "<Figure size 432x288 with 1 Axes>"
      ]
     },
     "metadata": {
      "needs_background": "light"
     },
     "output_type": "display_data"
    },
    {
     "data": {
      "text/plain": [
       "<Figure size 720x504 with 0 Axes>"
      ]
     },
     "metadata": {},
     "output_type": "display_data"
    }
   ],
   "source": [
    "data['underdiagnosis_reason'].value_counts().plot(kind = 'bar')\n",
    "\n",
    "plt.xticks(rotation= 0)\n",
    "plt.figure(figsize= (10,7))"
   ]
  },
  {
   "cell_type": "code",
   "execution_count": 37,
   "metadata": {},
   "outputs": [
    {
     "data": {
      "text/plain": [
       "<Figure size 720x504 with 0 Axes>"
      ]
     },
     "execution_count": 37,
     "metadata": {},
     "output_type": "execute_result"
    },
    {
     "data": {
      "image/png": "[encoded data removed]",
      "text/plain": [
       "<Figure size 432x288 with 1 Axes>"
      ]
     },
     "metadata": {
      "needs_background": "light"
     },
     "output_type": "display_data"
    },
    {
     "data": {
      "text/plain": [
       "<Figure size 720x504 with 0 Axes>"
      ]
     },
     "metadata": {},
     "output_type": "display_data"
    }
   ],
   "source": [
    "data['extracurricular'].value_counts().plot(kind = 'bar')\n",
    "\n",
    "plt.xticks(rotation= 0)\n",
    "plt.figure(figsize= (10,7))"
   ]
  },
  {
   "cell_type": "code",
   "execution_count": 38,
   "metadata": {},
   "outputs": [
    {
     "data": {
      "text/plain": [
       "<Figure size 720x504 with 0 Axes>"
      ]
     },
     "execution_count": 38,
     "metadata": {},
     "output_type": "execute_result"
    },
    {
     "data": {
      "image/png": "[encoded data removed]",
      "text/plain": [
       "<Figure size 432x288 with 1 Axes>"
      ]
     },
     "metadata": {
      "needs_background": "light"
     },
     "output_type": "display_data"
    },
    {
     "data": {
      "text/plain": [
       "<Figure size 720x504 with 0 Axes>"
      ]
     },
     "metadata": {},
     "output_type": "display_data"
    }
   ],
   "source": [
    "gender = pd.crosstab(data['extracurricular'], data['suicidal_thoughts'])\n",
    "gender.div(gender.sum().astype(float), axis=1).plot(kind='bar', stacked=False)\n",
    "\n",
    "\n",
    "\n",
    "plt.xticks(rotation= 0)\n",
    "plt.figure(figsize= (10,7))"
   ]
  },
  {
   "cell_type": "code",
   "execution_count": 39,
   "metadata": {},
   "outputs": [
    {
     "data": {
      "text/html": [
       "<div>\n",
       "<style scoped>\n",
       "    .dataframe tbody tr th:only-of-type {\n",
       "        vertical-align: middle;\n",
       "    }\n",
       "\n",
       "    .dataframe tbody tr th {\n",
       "        vertical-align: top;\n",
       "    }\n",
       "\n",
       "    .dataframe thead th {\n",
       "        text-align: right;\n",
       "    }\n",
       "</style>\n",
       "<table border=\"1\" class=\"dataframe\">\n",
       "  <thead>\n",
       "    <tr style=\"text-align: right;\">\n",
       "      <th>suicidal_thoughts</th>\n",
       "      <th>No</th>\n",
       "      <th>Yes</th>\n",
       "    </tr>\n",
       "    <tr>\n",
       "      <th>extracurricular</th>\n",
       "      <th></th>\n",
       "      <th></th>\n",
       "    </tr>\n",
       "  </thead>\n",
       "  <tbody>\n",
       "    <tr>\n",
       "      <th>No</th>\n",
       "      <td>35.0</td>\n",
       "      <td>53.0</td>\n",
       "    </tr>\n",
       "    <tr>\n",
       "      <th>Yes</th>\n",
       "      <td>65.0</td>\n",
       "      <td>47.0</td>\n",
       "    </tr>\n",
       "  </tbody>\n",
       "</table>\n",
       "</div>"
      ],
      "text/plain": [
       "suicidal_thoughts    No   Yes\n",
       "extracurricular              \n",
       "No                 35.0  53.0\n",
       "Yes                65.0  47.0"
      ]
     },
     "execution_count": 39,
     "metadata": {},
     "output_type": "execute_result"
    }
   ],
   "source": [
    "gender = pd.crosstab(data['extracurricular'], data['suicidal_thoughts'])\n",
    "round((gender.div(gender.sum().astype(int), axis=1)) * 100)"
   ]
  },
  {
   "cell_type": "code",
   "execution_count": 40,
   "metadata": {},
   "outputs": [
    {
     "data": {
      "text/plain": [
       "<Figure size 720x504 with 0 Axes>"
      ]
     },
     "execution_count": 40,
     "metadata": {},
     "output_type": "execute_result"
    },
    {
     "data": {
      "image/png": "[encoded data removed]",
      "text/plain": [
       "<Figure size 432x288 with 1 Axes>"
      ]
     },
     "metadata": {
      "needs_background": "light"
     },
     "output_type": "display_data"
    },
    {
     "data": {
      "text/plain": [
       "<Figure size 720x504 with 0 Axes>"
      ]
     },
     "metadata": {},
     "output_type": "display_data"
    }
   ],
   "source": [
    "data['mental_illness_level'].value_counts().plot(kind = 'bar')\n",
    "\n",
    "plt.xticks(rotation= 0)\n",
    "plt.figure(figsize= (10,7))"
   ]
  },
  {
   "cell_type": "code",
   "execution_count": 41,
   "metadata": {
    "scrolled": true
   },
   "outputs": [
    {
     "data": {
      "text/plain": [
       "<Figure size 720x504 with 0 Axes>"
      ]
     },
     "execution_count": 41,
     "metadata": {},
     "output_type": "execute_result"
    },
    {
     "data": {
      "image/png": "[encoded data removed]",
      "text/plain": [
       "<Figure size 432x288 with 1 Axes>"
      ]
     },
     "metadata": {
      "needs_background": "light"
     },
     "output_type": "display_data"
    },
    {
     "data": {
      "text/plain": [
       "<Figure size 720x504 with 0 Axes>"
      ]
     },
     "metadata": {},
     "output_type": "display_data"
    }
   ],
   "source": [
    "gender = pd.crosstab(data['resit'], data['repeated'])\n",
    "gender.div(gender.sum().astype(float), axis=1).plot(kind='bar', stacked=False)\n",
    "\n",
    "\n",
    "\n",
    "plt.xticks(rotation= 0)\n",
    "plt.figure(figsize= (10,7))"
   ]
  },
  {
   "cell_type": "code",
   "execution_count": 42,
   "metadata": {},
   "outputs": [
    {
     "data": {
      "text/plain": [
       "<Figure size 720x504 with 0 Axes>"
      ]
     },
     "execution_count": 42,
     "metadata": {},
     "output_type": "execute_result"
    },
    {
     "data": {
      "image/png": "[encoded data removed]",
      "text/plain": [
       "<Figure size 432x288 with 1 Axes>"
      ]
     },
     "metadata": {
      "needs_background": "light"
     },
     "output_type": "display_data"
    },
    {
     "data": {
      "text/plain": [
       "<Figure size 720x504 with 0 Axes>"
      ]
     },
     "metadata": {},
     "output_type": "display_data"
    }
   ],
   "source": [
    "gender = pd.crosstab(data['repeated'], data['suicidal_thoughts'])\n",
    "gender.div(gender.sum().astype(float), axis=1).plot(kind='bar', stacked=False)\n",
    "\n",
    "\n",
    "\n",
    "plt.xticks(rotation= 0)\n",
    "plt.figure(figsize= (10,7))"
   ]
  },
  {
   "cell_type": "code",
   "execution_count": 43,
   "metadata": {},
   "outputs": [
    {
     "data": {
      "text/html": [
       "<div>\n",
       "<style scoped>\n",
       "    .dataframe tbody tr th:only-of-type {\n",
       "        vertical-align: middle;\n",
       "    }\n",
       "\n",
       "    .dataframe tbody tr th {\n",
       "        vertical-align: top;\n",
       "    }\n",
       "\n",
       "    .dataframe thead th {\n",
       "        text-align: right;\n",
       "    }\n",
       "</style>\n",
       "<table border=\"1\" class=\"dataframe\">\n",
       "  <thead>\n",
       "    <tr style=\"text-align: right;\">\n",
       "      <th>suicidal_thoughts</th>\n",
       "      <th>No</th>\n",
       "      <th>Yes</th>\n",
       "    </tr>\n",
       "    <tr>\n",
       "      <th>repeated</th>\n",
       "      <th></th>\n",
       "      <th></th>\n",
       "    </tr>\n",
       "  </thead>\n",
       "  <tbody>\n",
       "    <tr>\n",
       "      <th>No</th>\n",
       "      <td>88.0</td>\n",
       "      <td>80.0</td>\n",
       "    </tr>\n",
       "    <tr>\n",
       "      <th>Yes</th>\n",
       "      <td>12.0</td>\n",
       "      <td>20.0</td>\n",
       "    </tr>\n",
       "  </tbody>\n",
       "</table>\n",
       "</div>"
      ],
      "text/plain": [
       "suicidal_thoughts    No   Yes\n",
       "repeated                     \n",
       "No                 88.0  80.0\n",
       "Yes                12.0  20.0"
      ]
     },
     "execution_count": 43,
     "metadata": {},
     "output_type": "execute_result"
    }
   ],
   "source": [
    "gender = pd.crosstab(data['repeated'], data['suicidal_thoughts'])\n",
    "round((gender.div(gender.sum().astype(float), axis=1) * 100))\n",
    "# .plot(kind='bar', stacked=False)"
   ]
  },
  {
   "cell_type": "code",
   "execution_count": 44,
   "metadata": {},
   "outputs": [
    {
     "name": "stdout",
     "output_type": "stream",
     "text": [
      "<class 'pandas.core.frame.DataFrame'>\n",
      "Int64Index: 145 entries, 1 to 145\n",
      "Data columns (total 36 columns):\n",
      " #   Column                                                          Non-Null Count  Dtype  \n",
      "---  ------                                                          --------------  -----  \n",
      " 0   level                                                           145 non-null    object \n",
      " 1   age                                                             145 non-null    object \n",
      " 2   Religion                                                        145 non-null    object \n",
      " 3   married                                                         145 non-null    object \n",
      " 4   parents                                                         141 non-null    object \n",
      " 5   fin_crisis                                                      145 non-null    object \n",
      " 6   emo_crisis                                                      145 non-null    object \n",
      " 7   sleep_avg                                                       145 non-null    object \n",
      " 8   exam_burnout                                                    145 non-null    object \n",
      " 9   Have you ever been hospitalized for a mental illness?           145 non-null    object \n",
      " 10  concentration_reduced                                           145 non-null    object \n",
      " 11  health_issues_long                                              145 non-null    object \n",
      " 12  social_issues                                                   145 non-null    object \n",
      " 13  hospital_anxiety                                                145 non-null    object \n",
      " 14  childhood_trauma                                                145 non-null    object \n",
      " 15  familial_history                                                145 non-null    object \n",
      " 16  hardest_level                                                   133 non-null    object \n",
      " 17  extracurricular                                                 145 non-null    object \n",
      " 18  extracurricular_name                                            79 non-null     object \n",
      " 19  congestion_problem                                              145 non-null    object \n",
      " 20  satisfaction                                                    145 non-null    object \n",
      " 21  assessment                                                      145 non-null    object \n",
      " 22  self_esteem                                                     145 non-null    object \n",
      " 23  self_esteem_impact                                              145 non-null    float64\n",
      " 24  How did your grades in medical school affect your self-esteem?  145 non-null    object \n",
      " 25  resit                                                           145 non-null    object \n",
      " 26  repeated                                                        145 non-null    object \n",
      " 27  department_change                                               145 non-null    object \n",
      " 28  suicidal_thoughts                                               145 non-null    object \n",
      " 29  mental_illness_experience                                       145 non-null    object \n",
      " 30  mental_illness_level                                            27 non-null     float64\n",
      " 31  mental_illness_diagnosis                                        145 non-null    object \n",
      " 32  underdiagnosis_reason                                           145 non-null    object \n",
      " 33  visit_to_expert                                                 145 non-null    object \n",
      " 34  stress                                                          145 non-null    object \n",
      " 35  mentally_ill                                                    145 non-null    object \n",
      "dtypes: float64(2), object(34)\n",
      "memory usage: 41.9+ KB\n"
     ]
    }
   ],
   "source": [
    "data.info()"
   ]
  },
  {
   "cell_type": "code",
   "execution_count": 45,
   "metadata": {},
   "outputs": [
    {
     "data": {
      "text/plain": [
       "No               108\n",
       "I do not know     30\n",
       "Yes                7\n",
       "Name: mentally_ill, dtype: int64"
      ]
     },
     "execution_count": 45,
     "metadata": {},
     "output_type": "execute_result"
    }
   ],
   "source": [
    "data['mentally_ill'].value_counts()"
   ]
  },
  {
   "cell_type": "code",
   "execution_count": 46,
   "metadata": {},
   "outputs": [],
   "source": [
    "data['mentally_ill'] = data['mentally_ill'].replace({'I do not know': 1,'No': 0, 'Yes': 1 })"
   ]
  },
  {
   "cell_type": "code",
   "execution_count": 47,
   "metadata": {},
   "outputs": [
    {
     "data": {
      "text/plain": [
       "0    108\n",
       "1     37\n",
       "Name: mentally_ill, dtype: int64"
      ]
     },
     "execution_count": 47,
     "metadata": {},
     "output_type": "execute_result"
    }
   ],
   "source": [
    "data['mentally_ill'].value_counts()"
   ]
  },
  {
   "cell_type": "code",
   "execution_count": 48,
   "metadata": {},
   "outputs": [],
   "source": [
    "data['mentally_ill'] = data['mentally_ill'].replace({0 :'No', 1 : 'Yes' })"
   ]
  },
  {
   "cell_type": "code",
   "execution_count": 49,
   "metadata": {},
   "outputs": [
    {
     "data": {
      "text/plain": [
       "No     108\n",
       "Yes     37\n",
       "Name: mentally_ill, dtype: int64"
      ]
     },
     "execution_count": 49,
     "metadata": {},
     "output_type": "execute_result"
    }
   ],
   "source": [
    "data['mentally_ill'].value_counts()"
   ]
  },
  {
   "cell_type": "code",
   "execution_count": 55,
   "metadata": {},
   "outputs": [
    {
     "data": {
      "text/plain": [
       "<Figure size 720x504 with 0 Axes>"
      ]
     },
     "execution_count": 55,
     "metadata": {},
     "output_type": "execute_result"
    },
    {
     "data": {
      "image/png": "[encoded data removed]",
      "text/plain": [
       "<Figure size 432x288 with 1 Axes>"
      ]
     },
     "metadata": {
      "needs_background": "light"
     },
     "output_type": "display_data"
    },
    {
     "data": {
      "text/plain": [
       "<Figure size 720x504 with 0 Axes>"
      ]
     },
     "metadata": {},
     "output_type": "display_data"
    }
   ],
   "source": [
    "gender = pd.crosstab(data['age'], data['mentally_ill'])\n",
    "gender.div(gender.sum().astype(float), axis=1).plot(kind='bar', stacked=False)\n",
    "\n",
    "\n",
    "\n",
    "plt.xticks(rotation= 0)\n",
    "plt.figure(figsize= (10,7))"
   ]
  },
  {
   "cell_type": "code",
   "execution_count": 56,
   "metadata": {},
   "outputs": [
    {
     "data": {
      "text/html": [
       "<div>\n",
       "<style scoped>\n",
       "    .dataframe tbody tr th:only-of-type {\n",
       "        vertical-align: middle;\n",
       "    }\n",
       "\n",
       "    .dataframe tbody tr th {\n",
       "        vertical-align: top;\n",
       "    }\n",
       "\n",
       "    .dataframe thead th {\n",
       "        text-align: right;\n",
       "    }\n",
       "</style>\n",
       "<table border=\"1\" class=\"dataframe\">\n",
       "  <thead>\n",
       "    <tr style=\"text-align: right;\">\n",
       "      <th>mentally_ill</th>\n",
       "      <th>No</th>\n",
       "      <th>Yes</th>\n",
       "    </tr>\n",
       "    <tr>\n",
       "      <th>age</th>\n",
       "      <th></th>\n",
       "      <th></th>\n",
       "    </tr>\n",
       "  </thead>\n",
       "  <tbody>\n",
       "    <tr>\n",
       "      <th>16-20</th>\n",
       "      <td>43.0</td>\n",
       "      <td>41.0</td>\n",
       "    </tr>\n",
       "    <tr>\n",
       "      <th>21-24</th>\n",
       "      <td>44.0</td>\n",
       "      <td>49.0</td>\n",
       "    </tr>\n",
       "    <tr>\n",
       "      <th>24-30</th>\n",
       "      <td>14.0</td>\n",
       "      <td>8.0</td>\n",
       "    </tr>\n",
       "    <tr>\n",
       "      <th>30+</th>\n",
       "      <td>0.0</td>\n",
       "      <td>3.0</td>\n",
       "    </tr>\n",
       "  </tbody>\n",
       "</table>\n",
       "</div>"
      ],
      "text/plain": [
       "mentally_ill    No   Yes\n",
       "age                     \n",
       "16-20         43.0  41.0\n",
       "21-24         44.0  49.0\n",
       "24-30         14.0   8.0\n",
       "30+            0.0   3.0"
      ]
     },
     "execution_count": 56,
     "metadata": {},
     "output_type": "execute_result"
    }
   ],
   "source": [
    "gender = pd.crosstab(data['age'], data['mentally_ill'])\n",
    "round((gender.div(gender.sum().astype(float), axis=1) * 100))"
   ]
  },
  {
   "cell_type": "markdown",
   "metadata": {},
   "source": [
    "## DATA PROCESSING"
   ]
  },
  {
   "cell_type": "code",
   "execution_count": 47,
   "metadata": {},
   "outputs": [],
   "source": [
    "data.drop(['mental_illness_level','extracurricular_name'], axis=1, inplace= True)"
   ]
  },
  {
   "cell_type": "code",
   "execution_count": 111,
   "metadata": {},
   "outputs": [],
   "source": [
    "# Label Encoder\n",
    "\n",
    "from sklearn.preprocessing import LabelEncoder\n",
    "categorical_cols = ['Religion','married','parents','fin_crisis','emo_crisis','exam_burnout','Have you ever been hospitalized for a mental illness?','concentration_reduced',\n",
    "                  'health_issues_long','social_issues','hospital_anxiety','childhood_trauma','familial_history','extracurricular',\n",
    "                   'congestion_problem','satisfaction','self_esteem','resit','repeated','department_change','suicidal_thoughts','mental_illness_experience',\n",
    "                   'mental_illness_diagnosis','under_diagnosis','visit_to_expert']"
   ]
  },
  {
   "cell_type": "code",
   "execution_count": 112,
   "metadata": {},
   "outputs": [],
   "source": [
    "from sklearn.preprocessing import LabelEncoder\n",
    "from sklearn.impute import SimpleImputer\n",
    "from sklearn.compose import ColumnTransformer\n",
    "from sklearn.pipeline import Pipeline"
   ]
  },
  {
   "cell_type": "markdown",
   "metadata": {},
   "source": [
    "## Preprocess the numerical data"
   ]
  },
  {
   "cell_type": "code",
   "execution_count": 113,
   "metadata": {},
   "outputs": [],
   "source": [
    "numerical_transformer = SimpleImputer(strategy='median')"
   ]
  },
  {
   "cell_type": "markdown",
   "metadata": {},
   "source": [
    "## Preprocess the categorical data"
   ]
  },
  {
   "cell_type": "code",
   "execution_count": 114,
   "metadata": {},
   "outputs": [],
   "source": [
    "categorical_transformer = Pipeline(steps=[\n",
    "('imputer', SimpleImputer(strategy='most_frequent')),\n",
    "('imput', LabelEncoder())\n",
    "])"
   ]
  },
  {
   "cell_type": "markdown",
   "metadata": {},
   "source": [
    "## Bundle preprocessing for numerical and categorical data"
   ]
  },
  {
   "cell_type": "code",
   "execution_count": 115,
   "metadata": {},
   "outputs": [],
   "source": [
    "preprocessor = ColumnTransformer(\n",
    "transformers=[\n",
    "# ('num', numerical_transformer, numerical_cols),\n",
    "('cat', categorical_transformer, categorical_cols)\n",
    "])"
   ]
  },
  {
   "cell_type": "code",
   "execution_count": 183,
   "metadata": {
    "scrolled": true
   },
   "outputs": [
    {
     "name": "stdout",
     "output_type": "stream",
     "text": [
      "<class 'pandas.core.frame.DataFrame'>\n",
      "Int64Index: 145 entries, 1 to 145\n",
      "Data columns (total 15 columns):\n",
      " #   Column                 Non-Null Count  Dtype \n",
      "---  ------                 --------------  ----- \n",
      " 0   level                  145 non-null    object\n",
      " 1   age                    145 non-null    object\n",
      " 2   hardest_level          133 non-null    object\n",
      " 3   fin_crisis             145 non-null    object\n",
      " 4   emo_crisis             145 non-null    object\n",
      " 5   exam_burnout           145 non-null    object\n",
      " 6   sleep_avg              145 non-null    object\n",
      " 7   self_esteem            145 non-null    object\n",
      " 8   social_issues          145 non-null    object\n",
      " 9   concentration_reduced  145 non-null    object\n",
      " 10  assessment             145 non-null    object\n",
      " 11  familial_history       145 non-null    object\n",
      " 12  extracurricular        145 non-null    object\n",
      " 13  suicidal_thoughts      145 non-null    object\n",
      " 14  mentally_ill           145 non-null    object\n",
      "dtypes: object(15)\n",
      "memory usage: 18.1+ KB\n"
     ]
    }
   ],
   "source": [
    "df2.info()"
   ]
  },
  {
   "cell_type": "code",
   "execution_count": 184,
   "metadata": {},
   "outputs": [
    {
     "ename": "KeyError",
     "evalue": "\"['mentally_ill'] not found in axis\"",
     "output_type": "error",
     "traceback": [
      "\u001b[1;31m---------------------------------------------------------------------------\u001b[0m",
      "\u001b[1;31mKeyError\u001b[0m                                  Traceback (most recent call last)",
      "\u001b[1;32m<ipython-input-184-6099d5edd412>\u001b[0m in \u001b[0;36m<module>\u001b[1;34m\u001b[0m\n\u001b[1;32m----> 1\u001b[1;33m \u001b[0mX\u001b[0m \u001b[1;33m=\u001b[0m \u001b[0mdf2_new\u001b[0m\u001b[1;33m.\u001b[0m\u001b[0mdrop\u001b[0m\u001b[1;33m(\u001b[0m\u001b[1;33m[\u001b[0m\u001b[1;34m'mentally_ill'\u001b[0m\u001b[1;33m]\u001b[0m\u001b[1;33m,\u001b[0m \u001b[0maxis\u001b[0m\u001b[1;33m=\u001b[0m \u001b[1;36m1\u001b[0m\u001b[1;33m)\u001b[0m\u001b[1;33m\u001b[0m\u001b[1;33m\u001b[0m\u001b[0m\n\u001b[0m\u001b[0;32m      2\u001b[0m \u001b[0my\u001b[0m \u001b[1;33m=\u001b[0m \u001b[0mdf2_new\u001b[0m\u001b[1;33m[\u001b[0m\u001b[1;34m'mentally_ill'\u001b[0m\u001b[1;33m]\u001b[0m\u001b[1;33m\u001b[0m\u001b[1;33m\u001b[0m\u001b[0m\n",
      "\u001b[1;32mC:\\Users\\Public\\New folder\\lib\\site-packages\\pandas\\core\\frame.py\u001b[0m in \u001b[0;36mdrop\u001b[1;34m(self, labels, axis, index, columns, level, inplace, errors)\u001b[0m\n\u001b[0;32m   4306\u001b[0m                 \u001b[0mweight\u001b[0m  \u001b[1;36m1.0\u001b[0m     \u001b[1;36m0.8\u001b[0m\u001b[1;33m\u001b[0m\u001b[1;33m\u001b[0m\u001b[0m\n\u001b[0;32m   4307\u001b[0m         \"\"\"\n\u001b[1;32m-> 4308\u001b[1;33m         return super().drop(\n\u001b[0m\u001b[0;32m   4309\u001b[0m             \u001b[0mlabels\u001b[0m\u001b[1;33m=\u001b[0m\u001b[0mlabels\u001b[0m\u001b[1;33m,\u001b[0m\u001b[1;33m\u001b[0m\u001b[1;33m\u001b[0m\u001b[0m\n\u001b[0;32m   4310\u001b[0m             \u001b[0maxis\u001b[0m\u001b[1;33m=\u001b[0m\u001b[0maxis\u001b[0m\u001b[1;33m,\u001b[0m\u001b[1;33m\u001b[0m\u001b[1;33m\u001b[0m\u001b[0m\n",
      "\u001b[1;32mC:\\Users\\Public\\New folder\\lib\\site-packages\\pandas\\core\\generic.py\u001b[0m in \u001b[0;36mdrop\u001b[1;34m(self, labels, axis, index, columns, level, inplace, errors)\u001b[0m\n\u001b[0;32m   4151\u001b[0m         \u001b[1;32mfor\u001b[0m \u001b[0maxis\u001b[0m\u001b[1;33m,\u001b[0m \u001b[0mlabels\u001b[0m \u001b[1;32min\u001b[0m \u001b[0maxes\u001b[0m\u001b[1;33m.\u001b[0m\u001b[0mitems\u001b[0m\u001b[1;33m(\u001b[0m\u001b[1;33m)\u001b[0m\u001b[1;33m:\u001b[0m\u001b[1;33m\u001b[0m\u001b[1;33m\u001b[0m\u001b[0m\n\u001b[0;32m   4152\u001b[0m             \u001b[1;32mif\u001b[0m \u001b[0mlabels\u001b[0m \u001b[1;32mis\u001b[0m \u001b[1;32mnot\u001b[0m \u001b[1;32mNone\u001b[0m\u001b[1;33m:\u001b[0m\u001b[1;33m\u001b[0m\u001b[1;33m\u001b[0m\u001b[0m\n\u001b[1;32m-> 4153\u001b[1;33m                 \u001b[0mobj\u001b[0m \u001b[1;33m=\u001b[0m \u001b[0mobj\u001b[0m\u001b[1;33m.\u001b[0m\u001b[0m_drop_axis\u001b[0m\u001b[1;33m(\u001b[0m\u001b[0mlabels\u001b[0m\u001b[1;33m,\u001b[0m \u001b[0maxis\u001b[0m\u001b[1;33m,\u001b[0m \u001b[0mlevel\u001b[0m\u001b[1;33m=\u001b[0m\u001b[0mlevel\u001b[0m\u001b[1;33m,\u001b[0m \u001b[0merrors\u001b[0m\u001b[1;33m=\u001b[0m\u001b[0merrors\u001b[0m\u001b[1;33m)\u001b[0m\u001b[1;33m\u001b[0m\u001b[1;33m\u001b[0m\u001b[0m\n\u001b[0m\u001b[0;32m   4154\u001b[0m \u001b[1;33m\u001b[0m\u001b[0m\n\u001b[0;32m   4155\u001b[0m         \u001b[1;32mif\u001b[0m \u001b[0minplace\u001b[0m\u001b[1;33m:\u001b[0m\u001b[1;33m\u001b[0m\u001b[1;33m\u001b[0m\u001b[0m\n",
      "\u001b[1;32mC:\\Users\\Public\\New folder\\lib\\site-packages\\pandas\\core\\generic.py\u001b[0m in \u001b[0;36m_drop_axis\u001b[1;34m(self, labels, axis, level, errors)\u001b[0m\n\u001b[0;32m   4186\u001b[0m                 \u001b[0mnew_axis\u001b[0m \u001b[1;33m=\u001b[0m \u001b[0maxis\u001b[0m\u001b[1;33m.\u001b[0m\u001b[0mdrop\u001b[0m\u001b[1;33m(\u001b[0m\u001b[0mlabels\u001b[0m\u001b[1;33m,\u001b[0m \u001b[0mlevel\u001b[0m\u001b[1;33m=\u001b[0m\u001b[0mlevel\u001b[0m\u001b[1;33m,\u001b[0m \u001b[0merrors\u001b[0m\u001b[1;33m=\u001b[0m\u001b[0merrors\u001b[0m\u001b[1;33m)\u001b[0m\u001b[1;33m\u001b[0m\u001b[1;33m\u001b[0m\u001b[0m\n\u001b[0;32m   4187\u001b[0m             \u001b[1;32melse\u001b[0m\u001b[1;33m:\u001b[0m\u001b[1;33m\u001b[0m\u001b[1;33m\u001b[0m\u001b[0m\n\u001b[1;32m-> 4188\u001b[1;33m                 \u001b[0mnew_axis\u001b[0m \u001b[1;33m=\u001b[0m \u001b[0maxis\u001b[0m\u001b[1;33m.\u001b[0m\u001b[0mdrop\u001b[0m\u001b[1;33m(\u001b[0m\u001b[0mlabels\u001b[0m\u001b[1;33m,\u001b[0m \u001b[0merrors\u001b[0m\u001b[1;33m=\u001b[0m\u001b[0merrors\u001b[0m\u001b[1;33m)\u001b[0m\u001b[1;33m\u001b[0m\u001b[1;33m\u001b[0m\u001b[0m\n\u001b[0m\u001b[0;32m   4189\u001b[0m             \u001b[0mresult\u001b[0m \u001b[1;33m=\u001b[0m \u001b[0mself\u001b[0m\u001b[1;33m.\u001b[0m\u001b[0mreindex\u001b[0m\u001b[1;33m(\u001b[0m\u001b[1;33m**\u001b[0m\u001b[1;33m{\u001b[0m\u001b[0maxis_name\u001b[0m\u001b[1;33m:\u001b[0m \u001b[0mnew_axis\u001b[0m\u001b[1;33m}\u001b[0m\u001b[1;33m)\u001b[0m\u001b[1;33m\u001b[0m\u001b[1;33m\u001b[0m\u001b[0m\n\u001b[0;32m   4190\u001b[0m \u001b[1;33m\u001b[0m\u001b[0m\n",
      "\u001b[1;32mC:\\Users\\Public\\New folder\\lib\\site-packages\\pandas\\core\\indexes\\base.py\u001b[0m in \u001b[0;36mdrop\u001b[1;34m(self, labels, errors)\u001b[0m\n\u001b[0;32m   5589\u001b[0m         \u001b[1;32mif\u001b[0m \u001b[0mmask\u001b[0m\u001b[1;33m.\u001b[0m\u001b[0many\u001b[0m\u001b[1;33m(\u001b[0m\u001b[1;33m)\u001b[0m\u001b[1;33m:\u001b[0m\u001b[1;33m\u001b[0m\u001b[1;33m\u001b[0m\u001b[0m\n\u001b[0;32m   5590\u001b[0m             \u001b[1;32mif\u001b[0m \u001b[0merrors\u001b[0m \u001b[1;33m!=\u001b[0m \u001b[1;34m\"ignore\"\u001b[0m\u001b[1;33m:\u001b[0m\u001b[1;33m\u001b[0m\u001b[1;33m\u001b[0m\u001b[0m\n\u001b[1;32m-> 5591\u001b[1;33m                 \u001b[1;32mraise\u001b[0m \u001b[0mKeyError\u001b[0m\u001b[1;33m(\u001b[0m\u001b[1;34mf\"{labels[mask]} not found in axis\"\u001b[0m\u001b[1;33m)\u001b[0m\u001b[1;33m\u001b[0m\u001b[1;33m\u001b[0m\u001b[0m\n\u001b[0m\u001b[0;32m   5592\u001b[0m             \u001b[0mindexer\u001b[0m \u001b[1;33m=\u001b[0m \u001b[0mindexer\u001b[0m\u001b[1;33m[\u001b[0m\u001b[1;33m~\u001b[0m\u001b[0mmask\u001b[0m\u001b[1;33m]\u001b[0m\u001b[1;33m\u001b[0m\u001b[1;33m\u001b[0m\u001b[0m\n\u001b[0;32m   5593\u001b[0m         \u001b[1;32mreturn\u001b[0m \u001b[0mself\u001b[0m\u001b[1;33m.\u001b[0m\u001b[0mdelete\u001b[0m\u001b[1;33m(\u001b[0m\u001b[0mindexer\u001b[0m\u001b[1;33m)\u001b[0m\u001b[1;33m\u001b[0m\u001b[1;33m\u001b[0m\u001b[0m\n",
      "\u001b[1;31mKeyError\u001b[0m: \"['mentally_ill'] not found in axis\""
     ]
    }
   ],
   "source": [
    "X = df2_new.drop(['mentally_ill'], axis= 1)\n",
    "y = df2_new['mentally_ill']"
   ]
  },
  {
   "cell_type": "code",
   "execution_count": 151,
   "metadata": {},
   "outputs": [],
   "source": [
    "df2_new = pd.get_dummies(df2)"
   ]
  },
  {
   "cell_type": "code",
   "execution_count": 152,
   "metadata": {},
   "outputs": [
    {
     "data": {
      "text/html": [
       "<div>\n",
       "<style scoped>\n",
       "    .dataframe tbody tr th:only-of-type {\n",
       "        vertical-align: middle;\n",
       "    }\n",
       "\n",
       "    .dataframe tbody tr th {\n",
       "        vertical-align: top;\n",
       "    }\n",
       "\n",
       "    .dataframe thead th {\n",
       "        text-align: right;\n",
       "    }\n",
       "</style>\n",
       "<table border=\"1\" class=\"dataframe\">\n",
       "  <thead>\n",
       "    <tr style=\"text-align: right;\">\n",
       "      <th></th>\n",
       "      <th>level_Basic Clinical(400)</th>\n",
       "      <th>level_Basic Medical(100-300)</th>\n",
       "      <th>level_Clinical (500-600)</th>\n",
       "      <th>age_16-20</th>\n",
       "      <th>age_21-24</th>\n",
       "      <th>age_24-30</th>\n",
       "      <th>age_30+</th>\n",
       "      <th>hardest_level_100</th>\n",
       "      <th>hardest_level_200</th>\n",
       "      <th>hardest_level_300</th>\n",
       "      <th>...</th>\n",
       "      <th>assessment_Below Average</th>\n",
       "      <th>familial_history_No</th>\n",
       "      <th>familial_history_Yes</th>\n",
       "      <th>extracurricular_No</th>\n",
       "      <th>extracurricular_Yes</th>\n",
       "      <th>suicidal_thoughts_No</th>\n",
       "      <th>suicidal_thoughts_Yes</th>\n",
       "      <th>mentally_ill_I do not know</th>\n",
       "      <th>mentally_ill_No</th>\n",
       "      <th>mentally_ill_Yes</th>\n",
       "    </tr>\n",
       "  </thead>\n",
       "  <tbody>\n",
       "    <tr>\n",
       "      <th>1</th>\n",
       "      <td>0</td>\n",
       "      <td>1</td>\n",
       "      <td>0</td>\n",
       "      <td>0</td>\n",
       "      <td>1</td>\n",
       "      <td>0</td>\n",
       "      <td>0</td>\n",
       "      <td>1</td>\n",
       "      <td>0</td>\n",
       "      <td>0</td>\n",
       "      <td>...</td>\n",
       "      <td>0</td>\n",
       "      <td>1</td>\n",
       "      <td>0</td>\n",
       "      <td>0</td>\n",
       "      <td>1</td>\n",
       "      <td>1</td>\n",
       "      <td>0</td>\n",
       "      <td>0</td>\n",
       "      <td>1</td>\n",
       "      <td>0</td>\n",
       "    </tr>\n",
       "    <tr>\n",
       "      <th>2</th>\n",
       "      <td>0</td>\n",
       "      <td>1</td>\n",
       "      <td>0</td>\n",
       "      <td>0</td>\n",
       "      <td>1</td>\n",
       "      <td>0</td>\n",
       "      <td>0</td>\n",
       "      <td>0</td>\n",
       "      <td>0</td>\n",
       "      <td>1</td>\n",
       "      <td>...</td>\n",
       "      <td>0</td>\n",
       "      <td>1</td>\n",
       "      <td>0</td>\n",
       "      <td>0</td>\n",
       "      <td>1</td>\n",
       "      <td>1</td>\n",
       "      <td>0</td>\n",
       "      <td>0</td>\n",
       "      <td>0</td>\n",
       "      <td>1</td>\n",
       "    </tr>\n",
       "    <tr>\n",
       "      <th>3</th>\n",
       "      <td>0</td>\n",
       "      <td>1</td>\n",
       "      <td>0</td>\n",
       "      <td>1</td>\n",
       "      <td>0</td>\n",
       "      <td>0</td>\n",
       "      <td>0</td>\n",
       "      <td>0</td>\n",
       "      <td>1</td>\n",
       "      <td>0</td>\n",
       "      <td>...</td>\n",
       "      <td>0</td>\n",
       "      <td>1</td>\n",
       "      <td>0</td>\n",
       "      <td>0</td>\n",
       "      <td>1</td>\n",
       "      <td>1</td>\n",
       "      <td>0</td>\n",
       "      <td>1</td>\n",
       "      <td>0</td>\n",
       "      <td>0</td>\n",
       "    </tr>\n",
       "    <tr>\n",
       "      <th>4</th>\n",
       "      <td>0</td>\n",
       "      <td>1</td>\n",
       "      <td>0</td>\n",
       "      <td>1</td>\n",
       "      <td>0</td>\n",
       "      <td>0</td>\n",
       "      <td>0</td>\n",
       "      <td>0</td>\n",
       "      <td>0</td>\n",
       "      <td>1</td>\n",
       "      <td>...</td>\n",
       "      <td>0</td>\n",
       "      <td>1</td>\n",
       "      <td>0</td>\n",
       "      <td>0</td>\n",
       "      <td>1</td>\n",
       "      <td>1</td>\n",
       "      <td>0</td>\n",
       "      <td>0</td>\n",
       "      <td>1</td>\n",
       "      <td>0</td>\n",
       "    </tr>\n",
       "    <tr>\n",
       "      <th>5</th>\n",
       "      <td>0</td>\n",
       "      <td>1</td>\n",
       "      <td>0</td>\n",
       "      <td>1</td>\n",
       "      <td>0</td>\n",
       "      <td>0</td>\n",
       "      <td>0</td>\n",
       "      <td>0</td>\n",
       "      <td>0</td>\n",
       "      <td>1</td>\n",
       "      <td>...</td>\n",
       "      <td>0</td>\n",
       "      <td>1</td>\n",
       "      <td>0</td>\n",
       "      <td>0</td>\n",
       "      <td>1</td>\n",
       "      <td>0</td>\n",
       "      <td>1</td>\n",
       "      <td>1</td>\n",
       "      <td>0</td>\n",
       "      <td>0</td>\n",
       "    </tr>\n",
       "    <tr>\n",
       "      <th>...</th>\n",
       "      <td>...</td>\n",
       "      <td>...</td>\n",
       "      <td>...</td>\n",
       "      <td>...</td>\n",
       "      <td>...</td>\n",
       "      <td>...</td>\n",
       "      <td>...</td>\n",
       "      <td>...</td>\n",
       "      <td>...</td>\n",
       "      <td>...</td>\n",
       "      <td>...</td>\n",
       "      <td>...</td>\n",
       "      <td>...</td>\n",
       "      <td>...</td>\n",
       "      <td>...</td>\n",
       "      <td>...</td>\n",
       "      <td>...</td>\n",
       "      <td>...</td>\n",
       "      <td>...</td>\n",
       "      <td>...</td>\n",
       "      <td>...</td>\n",
       "    </tr>\n",
       "    <tr>\n",
       "      <th>141</th>\n",
       "      <td>0</td>\n",
       "      <td>1</td>\n",
       "      <td>0</td>\n",
       "      <td>0</td>\n",
       "      <td>1</td>\n",
       "      <td>0</td>\n",
       "      <td>0</td>\n",
       "      <td>0</td>\n",
       "      <td>0</td>\n",
       "      <td>0</td>\n",
       "      <td>...</td>\n",
       "      <td>0</td>\n",
       "      <td>1</td>\n",
       "      <td>0</td>\n",
       "      <td>0</td>\n",
       "      <td>1</td>\n",
       "      <td>1</td>\n",
       "      <td>0</td>\n",
       "      <td>0</td>\n",
       "      <td>1</td>\n",
       "      <td>0</td>\n",
       "    </tr>\n",
       "    <tr>\n",
       "      <th>142</th>\n",
       "      <td>1</td>\n",
       "      <td>0</td>\n",
       "      <td>0</td>\n",
       "      <td>0</td>\n",
       "      <td>1</td>\n",
       "      <td>0</td>\n",
       "      <td>0</td>\n",
       "      <td>0</td>\n",
       "      <td>0</td>\n",
       "      <td>0</td>\n",
       "      <td>...</td>\n",
       "      <td>0</td>\n",
       "      <td>1</td>\n",
       "      <td>0</td>\n",
       "      <td>0</td>\n",
       "      <td>1</td>\n",
       "      <td>1</td>\n",
       "      <td>0</td>\n",
       "      <td>0</td>\n",
       "      <td>1</td>\n",
       "      <td>0</td>\n",
       "    </tr>\n",
       "    <tr>\n",
       "      <th>143</th>\n",
       "      <td>1</td>\n",
       "      <td>0</td>\n",
       "      <td>0</td>\n",
       "      <td>0</td>\n",
       "      <td>1</td>\n",
       "      <td>0</td>\n",
       "      <td>0</td>\n",
       "      <td>0</td>\n",
       "      <td>0</td>\n",
       "      <td>1</td>\n",
       "      <td>...</td>\n",
       "      <td>0</td>\n",
       "      <td>1</td>\n",
       "      <td>0</td>\n",
       "      <td>0</td>\n",
       "      <td>1</td>\n",
       "      <td>0</td>\n",
       "      <td>1</td>\n",
       "      <td>1</td>\n",
       "      <td>0</td>\n",
       "      <td>0</td>\n",
       "    </tr>\n",
       "    <tr>\n",
       "      <th>144</th>\n",
       "      <td>0</td>\n",
       "      <td>0</td>\n",
       "      <td>1</td>\n",
       "      <td>0</td>\n",
       "      <td>0</td>\n",
       "      <td>1</td>\n",
       "      <td>0</td>\n",
       "      <td>0</td>\n",
       "      <td>0</td>\n",
       "      <td>0</td>\n",
       "      <td>...</td>\n",
       "      <td>0</td>\n",
       "      <td>1</td>\n",
       "      <td>0</td>\n",
       "      <td>0</td>\n",
       "      <td>1</td>\n",
       "      <td>1</td>\n",
       "      <td>0</td>\n",
       "      <td>0</td>\n",
       "      <td>1</td>\n",
       "      <td>0</td>\n",
       "    </tr>\n",
       "    <tr>\n",
       "      <th>145</th>\n",
       "      <td>1</td>\n",
       "      <td>0</td>\n",
       "      <td>0</td>\n",
       "      <td>0</td>\n",
       "      <td>1</td>\n",
       "      <td>0</td>\n",
       "      <td>0</td>\n",
       "      <td>0</td>\n",
       "      <td>0</td>\n",
       "      <td>1</td>\n",
       "      <td>...</td>\n",
       "      <td>0</td>\n",
       "      <td>1</td>\n",
       "      <td>0</td>\n",
       "      <td>0</td>\n",
       "      <td>1</td>\n",
       "      <td>1</td>\n",
       "      <td>0</td>\n",
       "      <td>1</td>\n",
       "      <td>0</td>\n",
       "      <td>0</td>\n",
       "    </tr>\n",
       "  </tbody>\n",
       "</table>\n",
       "<p>145 rows × 41 columns</p>\n",
       "</div>"
      ],
      "text/plain": [
       "     level_Basic Clinical(400)  level_Basic Medical(100-300)  \\\n",
       "1                            0                             1   \n",
       "2                            0                             1   \n",
       "3                            0                             1   \n",
       "4                            0                             1   \n",
       "5                            0                             1   \n",
       "..                         ...                           ...   \n",
       "141                          0                             1   \n",
       "142                          1                             0   \n",
       "143                          1                             0   \n",
       "144                          0                             0   \n",
       "145                          1                             0   \n",
       "\n",
       "     level_Clinical (500-600)  age_16-20  age_21-24  age_24-30  age_30+  \\\n",
       "1                           0          0          1          0        0   \n",
       "2                           0          0          1          0        0   \n",
       "3                           0          1          0          0        0   \n",
       "4                           0          1          0          0        0   \n",
       "5                           0          1          0          0        0   \n",
       "..                        ...        ...        ...        ...      ...   \n",
       "141                         0          0          1          0        0   \n",
       "142                         0          0          1          0        0   \n",
       "143                         0          0          1          0        0   \n",
       "144                         1          0          0          1        0   \n",
       "145                         0          0          1          0        0   \n",
       "\n",
       "     hardest_level_100  hardest_level_200  hardest_level_300  ...  \\\n",
       "1                    1                  0                  0  ...   \n",
       "2                    0                  0                  1  ...   \n",
       "3                    0                  1                  0  ...   \n",
       "4                    0                  0                  1  ...   \n",
       "5                    0                  0                  1  ...   \n",
       "..                 ...                ...                ...  ...   \n",
       "141                  0                  0                  0  ...   \n",
       "142                  0                  0                  0  ...   \n",
       "143                  0                  0                  1  ...   \n",
       "144                  0                  0                  0  ...   \n",
       "145                  0                  0                  1  ...   \n",
       "\n",
       "     assessment_Below Average  familial_history_No  familial_history_Yes  \\\n",
       "1                           0                    1                     0   \n",
       "2                           0                    1                     0   \n",
       "3                           0                    1                     0   \n",
       "4                           0                    1                     0   \n",
       "5                           0                    1                     0   \n",
       "..                        ...                  ...                   ...   \n",
       "141                         0                    1                     0   \n",
       "142                         0                    1                     0   \n",
       "143                         0                    1                     0   \n",
       "144                         0                    1                     0   \n",
       "145                         0                    1                     0   \n",
       "\n",
       "     extracurricular_No  extracurricular_Yes  suicidal_thoughts_No  \\\n",
       "1                     0                    1                     1   \n",
       "2                     0                    1                     1   \n",
       "3                     0                    1                     1   \n",
       "4                     0                    1                     1   \n",
       "5                     0                    1                     0   \n",
       "..                  ...                  ...                   ...   \n",
       "141                   0                    1                     1   \n",
       "142                   0                    1                     1   \n",
       "143                   0                    1                     0   \n",
       "144                   0                    1                     1   \n",
       "145                   0                    1                     1   \n",
       "\n",
       "     suicidal_thoughts_Yes  mentally_ill_I do not know  mentally_ill_No  \\\n",
       "1                        0                           0                1   \n",
       "2                        0                           0                0   \n",
       "3                        0                           1                0   \n",
       "4                        0                           0                1   \n",
       "5                        1                           1                0   \n",
       "..                     ...                         ...              ...   \n",
       "141                      0                           0                1   \n",
       "142                      0                           0                1   \n",
       "143                      1                           1                0   \n",
       "144                      0                           0                1   \n",
       "145                      0                           1                0   \n",
       "\n",
       "     mentally_ill_Yes  \n",
       "1                   0  \n",
       "2                   1  \n",
       "3                   0  \n",
       "4                   0  \n",
       "5                   0  \n",
       "..                ...  \n",
       "141                 0  \n",
       "142                 0  \n",
       "143                 0  \n",
       "144                 0  \n",
       "145                 0  \n",
       "\n",
       "[145 rows x 41 columns]"
      ]
     },
     "execution_count": 152,
     "metadata": {},
     "output_type": "execute_result"
    }
   ],
   "source": [
    "df2_new"
   ]
  },
  {
   "cell_type": "code",
   "execution_count": 70,
   "metadata": {
    "scrolled": true
   },
   "outputs": [
    {
     "name": "stdout",
     "output_type": "stream",
     "text": [
      "<class 'pandas.core.frame.DataFrame'>\n",
      "Int64Index: 145 entries, 1 to 145\n",
      "Data columns (total 36 columns):\n",
      " #   Column                                                          Non-Null Count  Dtype  \n",
      "---  ------                                                          --------------  -----  \n",
      " 0   level                                                           145 non-null    object \n",
      " 1   age                                                             145 non-null    object \n",
      " 2   Religion                                                        145 non-null    object \n",
      " 3   married                                                         145 non-null    object \n",
      " 4   parents                                                         141 non-null    object \n",
      " 5   fin_crisis                                                      145 non-null    object \n",
      " 6   emo_crisis                                                      145 non-null    object \n",
      " 7   sleep_avg                                                       145 non-null    object \n",
      " 8   exam_burnout                                                    145 non-null    object \n",
      " 9   Have you ever been hospitalized for a mental illness?           145 non-null    object \n",
      " 10  concentration_reduced                                           145 non-null    object \n",
      " 11  health_issues_long                                              145 non-null    object \n",
      " 12  social_issues                                                   145 non-null    object \n",
      " 13  hospital_anxiety                                                145 non-null    object \n",
      " 14  childhood_trauma                                                145 non-null    object \n",
      " 15  familial_history                                                145 non-null    object \n",
      " 16  hardest_level                                                   133 non-null    object \n",
      " 17  extracurricular                                                 145 non-null    object \n",
      " 18  extracurricular_name                                            79 non-null     object \n",
      " 19  congestion_problem                                              145 non-null    object \n",
      " 20  satisfaction                                                    145 non-null    object \n",
      " 21  assessment                                                      145 non-null    object \n",
      " 22  self_esteem                                                     145 non-null    object \n",
      " 23  self_esteem_impact                                              145 non-null    float64\n",
      " 24  How did your grades in medical school affect your self-esteem?  145 non-null    object \n",
      " 25  resit                                                           145 non-null    object \n",
      " 26  repeated                                                        145 non-null    object \n",
      " 27  department_change                                               145 non-null    object \n",
      " 28  suicidal_thoughts                                               145 non-null    object \n",
      " 29  mental_illness_experience                                       145 non-null    object \n",
      " 30  mental_illness_level                                            27 non-null     float64\n",
      " 31  mental_illness_diagnosis                                        145 non-null    object \n",
      " 32  underdiagnosis_reason                                           145 non-null    object \n",
      " 33  visit_to_expert                                                 145 non-null    object \n",
      " 34  stress                                                          145 non-null    object \n",
      " 35  mentally_ill                                                    145 non-null    object \n",
      "dtypes: float64(2), object(34)\n",
      "memory usage: 41.9+ KB\n"
     ]
    }
   ],
   "source": [
    "data.info()"
   ]
  },
  {
   "cell_type": "code",
   "execution_count": 54,
   "metadata": {},
   "outputs": [],
   "source": [
    "for i in data:\n",
    "    le = LabelEncoder()\n",
    "    data[i] = le.fit_transform(data[i])"
   ]
  },
  {
   "cell_type": "code",
   "execution_count": 55,
   "metadata": {},
   "outputs": [
    {
     "data": {
      "text/html": [
       "<div>\n",
       "<style scoped>\n",
       "    .dataframe tbody tr th:only-of-type {\n",
       "        vertical-align: middle;\n",
       "    }\n",
       "\n",
       "    .dataframe tbody tr th {\n",
       "        vertical-align: top;\n",
       "    }\n",
       "\n",
       "    .dataframe thead th {\n",
       "        text-align: right;\n",
       "    }\n",
       "</style>\n",
       "<table border=\"1\" class=\"dataframe\">\n",
       "  <thead>\n",
       "    <tr style=\"text-align: right;\">\n",
       "      <th></th>\n",
       "      <th>level</th>\n",
       "      <th>age</th>\n",
       "      <th>Religion</th>\n",
       "      <th>married</th>\n",
       "      <th>parents</th>\n",
       "      <th>fin_crisis</th>\n",
       "      <th>emo_crisis</th>\n",
       "      <th>sleep_avg</th>\n",
       "      <th>exam_burnout</th>\n",
       "      <th>Have you ever been hospitalized for a mental illness?</th>\n",
       "      <th>...</th>\n",
       "      <th>resit</th>\n",
       "      <th>repeated</th>\n",
       "      <th>department_change</th>\n",
       "      <th>suicidal_thoughts</th>\n",
       "      <th>mental_illness_experience</th>\n",
       "      <th>mental_illness_diagnosis</th>\n",
       "      <th>underdiagnosis_reason</th>\n",
       "      <th>visit_to_expert</th>\n",
       "      <th>stress</th>\n",
       "      <th>mentally_ill</th>\n",
       "    </tr>\n",
       "  </thead>\n",
       "  <tbody>\n",
       "    <tr>\n",
       "      <th>1</th>\n",
       "      <td>1</td>\n",
       "      <td>1</td>\n",
       "      <td>0</td>\n",
       "      <td>0</td>\n",
       "      <td>0</td>\n",
       "      <td>0</td>\n",
       "      <td>0</td>\n",
       "      <td>1</td>\n",
       "      <td>0</td>\n",
       "      <td>0</td>\n",
       "      <td>...</td>\n",
       "      <td>0</td>\n",
       "      <td>0</td>\n",
       "      <td>1</td>\n",
       "      <td>0</td>\n",
       "      <td>0</td>\n",
       "      <td>1</td>\n",
       "      <td>1</td>\n",
       "      <td>0</td>\n",
       "      <td>1</td>\n",
       "      <td>0</td>\n",
       "    </tr>\n",
       "    <tr>\n",
       "      <th>2</th>\n",
       "      <td>1</td>\n",
       "      <td>1</td>\n",
       "      <td>0</td>\n",
       "      <td>0</td>\n",
       "      <td>0</td>\n",
       "      <td>1</td>\n",
       "      <td>1</td>\n",
       "      <td>1</td>\n",
       "      <td>1</td>\n",
       "      <td>1</td>\n",
       "      <td>...</td>\n",
       "      <td>0</td>\n",
       "      <td>0</td>\n",
       "      <td>1</td>\n",
       "      <td>0</td>\n",
       "      <td>1</td>\n",
       "      <td>1</td>\n",
       "      <td>1</td>\n",
       "      <td>1</td>\n",
       "      <td>1</td>\n",
       "      <td>1</td>\n",
       "    </tr>\n",
       "    <tr>\n",
       "      <th>3</th>\n",
       "      <td>1</td>\n",
       "      <td>0</td>\n",
       "      <td>1</td>\n",
       "      <td>0</td>\n",
       "      <td>0</td>\n",
       "      <td>1</td>\n",
       "      <td>1</td>\n",
       "      <td>0</td>\n",
       "      <td>1</td>\n",
       "      <td>0</td>\n",
       "      <td>...</td>\n",
       "      <td>0</td>\n",
       "      <td>0</td>\n",
       "      <td>1</td>\n",
       "      <td>0</td>\n",
       "      <td>0</td>\n",
       "      <td>1</td>\n",
       "      <td>1</td>\n",
       "      <td>0</td>\n",
       "      <td>1</td>\n",
       "      <td>1</td>\n",
       "    </tr>\n",
       "    <tr>\n",
       "      <th>4</th>\n",
       "      <td>1</td>\n",
       "      <td>0</td>\n",
       "      <td>1</td>\n",
       "      <td>0</td>\n",
       "      <td>0</td>\n",
       "      <td>1</td>\n",
       "      <td>1</td>\n",
       "      <td>3</td>\n",
       "      <td>1</td>\n",
       "      <td>0</td>\n",
       "      <td>...</td>\n",
       "      <td>0</td>\n",
       "      <td>0</td>\n",
       "      <td>0</td>\n",
       "      <td>0</td>\n",
       "      <td>0</td>\n",
       "      <td>1</td>\n",
       "      <td>1</td>\n",
       "      <td>0</td>\n",
       "      <td>1</td>\n",
       "      <td>0</td>\n",
       "    </tr>\n",
       "    <tr>\n",
       "      <th>5</th>\n",
       "      <td>1</td>\n",
       "      <td>0</td>\n",
       "      <td>1</td>\n",
       "      <td>0</td>\n",
       "      <td>0</td>\n",
       "      <td>1</td>\n",
       "      <td>1</td>\n",
       "      <td>0</td>\n",
       "      <td>1</td>\n",
       "      <td>0</td>\n",
       "      <td>...</td>\n",
       "      <td>0</td>\n",
       "      <td>0</td>\n",
       "      <td>1</td>\n",
       "      <td>1</td>\n",
       "      <td>0</td>\n",
       "      <td>1</td>\n",
       "      <td>1</td>\n",
       "      <td>0</td>\n",
       "      <td>1</td>\n",
       "      <td>1</td>\n",
       "    </tr>\n",
       "  </tbody>\n",
       "</table>\n",
       "<p>5 rows × 34 columns</p>\n",
       "</div>"
      ],
      "text/plain": [
       "   level  age  Religion  married  parents  fin_crisis  emo_crisis  sleep_avg  \\\n",
       "1      1    1         0        0        0           0           0          1   \n",
       "2      1    1         0        0        0           1           1          1   \n",
       "3      1    0         1        0        0           1           1          0   \n",
       "4      1    0         1        0        0           1           1          3   \n",
       "5      1    0         1        0        0           1           1          0   \n",
       "\n",
       "   exam_burnout  Have you ever been hospitalized for a mental illness?   ...  \\\n",
       "1             0                                                  0       ...   \n",
       "2             1                                                  1       ...   \n",
       "3             1                                                  0       ...   \n",
       "4             1                                                  0       ...   \n",
       "5             1                                                  0       ...   \n",
       "\n",
       "   resit  repeated  department_change  suicidal_thoughts  \\\n",
       "1      0         0                  1                  0   \n",
       "2      0         0                  1                  0   \n",
       "3      0         0                  1                  0   \n",
       "4      0         0                  0                  0   \n",
       "5      0         0                  1                  1   \n",
       "\n",
       "   mental_illness_experience  mental_illness_diagnosis  underdiagnosis_reason  \\\n",
       "1                          0                         1                      1   \n",
       "2                          1                         1                      1   \n",
       "3                          0                         1                      1   \n",
       "4                          0                         1                      1   \n",
       "5                          0                         1                      1   \n",
       "\n",
       "   visit_to_expert  stress  mentally_ill  \n",
       "1                0       1             0  \n",
       "2                1       1             1  \n",
       "3                0       1             1  \n",
       "4                0       1             0  \n",
       "5                0       1             1  \n",
       "\n",
       "[5 rows x 34 columns]"
      ]
     },
     "execution_count": 55,
     "metadata": {},
     "output_type": "execute_result"
    }
   ],
   "source": [
    "data.head()"
   ]
  },
  {
   "cell_type": "code",
   "execution_count": 56,
   "metadata": {},
   "outputs": [
    {
     "data": {
      "text/plain": [
       "<AxesSubplot:xlabel='level', ylabel='suicidal_thoughts'>"
      ]
     },
     "execution_count": 56,
     "metadata": {},
     "output_type": "execute_result"
    },
    {
     "data": {
      "image/png": "[encoded data removed]",
      "text/plain": [
       "<Figure size 432x288 with 1 Axes>"
      ]
     },
     "metadata": {
      "needs_background": "light"
     },
     "output_type": "display_data"
    }
   ],
   "source": [
    "sns.boxplot(x='level', y='suicidal_thoughts', data= data)"
   ]
  },
  {
   "cell_type": "markdown",
   "metadata": {},
   "source": [
    "# MODEL BUILDING"
   ]
  },
  {
   "cell_type": "code",
   "execution_count": 153,
   "metadata": {},
   "outputs": [],
   "source": [
    "from sklearn import metrics\n",
    "from sklearn.model_selection import train_test_split"
   ]
  },
  {
   "cell_type": "code",
   "execution_count": 154,
   "metadata": {},
   "outputs": [
    {
     "ename": "KeyError",
     "evalue": "\"['mentally_ill'] not found in axis\"",
     "output_type": "error",
     "traceback": [
      "\u001b[1;31m---------------------------------------------------------------------------\u001b[0m",
      "\u001b[1;31mKeyError\u001b[0m                                  Traceback (most recent call last)",
      "\u001b[1;32m<ipython-input-154-17997c582b2e>\u001b[0m in \u001b[0;36m<module>\u001b[1;34m\u001b[0m\n\u001b[0;32m      1\u001b[0m \u001b[1;31m# split data into features amd target\u001b[0m\u001b[1;33m\u001b[0m\u001b[1;33m\u001b[0m\u001b[1;33m\u001b[0m\u001b[0m\n\u001b[0;32m      2\u001b[0m \u001b[1;33m\u001b[0m\u001b[0m\n\u001b[1;32m----> 3\u001b[1;33m \u001b[0mX\u001b[0m \u001b[1;33m=\u001b[0m \u001b[0mdf2_new\u001b[0m\u001b[1;33m.\u001b[0m\u001b[0mdrop\u001b[0m\u001b[1;33m(\u001b[0m\u001b[1;33m[\u001b[0m\u001b[1;34m'mentally_ill'\u001b[0m\u001b[1;33m]\u001b[0m\u001b[1;33m,\u001b[0m \u001b[0maxis\u001b[0m\u001b[1;33m=\u001b[0m \u001b[1;36m1\u001b[0m\u001b[1;33m)\u001b[0m\u001b[1;33m\u001b[0m\u001b[1;33m\u001b[0m\u001b[0m\n\u001b[0m\u001b[0;32m      4\u001b[0m \u001b[0my\u001b[0m \u001b[1;33m=\u001b[0m \u001b[0mdf2_new\u001b[0m\u001b[1;33m[\u001b[0m\u001b[1;34m'mentally_ill'\u001b[0m\u001b[1;33m]\u001b[0m\u001b[1;33m\u001b[0m\u001b[1;33m\u001b[0m\u001b[0m\n",
      "\u001b[1;32mC:\\Users\\Public\\New folder\\lib\\site-packages\\pandas\\core\\frame.py\u001b[0m in \u001b[0;36mdrop\u001b[1;34m(self, labels, axis, index, columns, level, inplace, errors)\u001b[0m\n\u001b[0;32m   4306\u001b[0m                 \u001b[0mweight\u001b[0m  \u001b[1;36m1.0\u001b[0m     \u001b[1;36m0.8\u001b[0m\u001b[1;33m\u001b[0m\u001b[1;33m\u001b[0m\u001b[0m\n\u001b[0;32m   4307\u001b[0m         \"\"\"\n\u001b[1;32m-> 4308\u001b[1;33m         return super().drop(\n\u001b[0m\u001b[0;32m   4309\u001b[0m             \u001b[0mlabels\u001b[0m\u001b[1;33m=\u001b[0m\u001b[0mlabels\u001b[0m\u001b[1;33m,\u001b[0m\u001b[1;33m\u001b[0m\u001b[1;33m\u001b[0m\u001b[0m\n\u001b[0;32m   4310\u001b[0m             \u001b[0maxis\u001b[0m\u001b[1;33m=\u001b[0m\u001b[0maxis\u001b[0m\u001b[1;33m,\u001b[0m\u001b[1;33m\u001b[0m\u001b[1;33m\u001b[0m\u001b[0m\n",
      "\u001b[1;32mC:\\Users\\Public\\New folder\\lib\\site-packages\\pandas\\core\\generic.py\u001b[0m in \u001b[0;36mdrop\u001b[1;34m(self, labels, axis, index, columns, level, inplace, errors)\u001b[0m\n\u001b[0;32m   4151\u001b[0m         \u001b[1;32mfor\u001b[0m \u001b[0maxis\u001b[0m\u001b[1;33m,\u001b[0m \u001b[0mlabels\u001b[0m \u001b[1;32min\u001b[0m \u001b[0maxes\u001b[0m\u001b[1;33m.\u001b[0m\u001b[0mitems\u001b[0m\u001b[1;33m(\u001b[0m\u001b[1;33m)\u001b[0m\u001b[1;33m:\u001b[0m\u001b[1;33m\u001b[0m\u001b[1;33m\u001b[0m\u001b[0m\n\u001b[0;32m   4152\u001b[0m             \u001b[1;32mif\u001b[0m \u001b[0mlabels\u001b[0m \u001b[1;32mis\u001b[0m \u001b[1;32mnot\u001b[0m \u001b[1;32mNone\u001b[0m\u001b[1;33m:\u001b[0m\u001b[1;33m\u001b[0m\u001b[1;33m\u001b[0m\u001b[0m\n\u001b[1;32m-> 4153\u001b[1;33m                 \u001b[0mobj\u001b[0m \u001b[1;33m=\u001b[0m \u001b[0mobj\u001b[0m\u001b[1;33m.\u001b[0m\u001b[0m_drop_axis\u001b[0m\u001b[1;33m(\u001b[0m\u001b[0mlabels\u001b[0m\u001b[1;33m,\u001b[0m \u001b[0maxis\u001b[0m\u001b[1;33m,\u001b[0m \u001b[0mlevel\u001b[0m\u001b[1;33m=\u001b[0m\u001b[0mlevel\u001b[0m\u001b[1;33m,\u001b[0m \u001b[0merrors\u001b[0m\u001b[1;33m=\u001b[0m\u001b[0merrors\u001b[0m\u001b[1;33m)\u001b[0m\u001b[1;33m\u001b[0m\u001b[1;33m\u001b[0m\u001b[0m\n\u001b[0m\u001b[0;32m   4154\u001b[0m \u001b[1;33m\u001b[0m\u001b[0m\n\u001b[0;32m   4155\u001b[0m         \u001b[1;32mif\u001b[0m \u001b[0minplace\u001b[0m\u001b[1;33m:\u001b[0m\u001b[1;33m\u001b[0m\u001b[1;33m\u001b[0m\u001b[0m\n",
      "\u001b[1;32mC:\\Users\\Public\\New folder\\lib\\site-packages\\pandas\\core\\generic.py\u001b[0m in \u001b[0;36m_drop_axis\u001b[1;34m(self, labels, axis, level, errors)\u001b[0m\n\u001b[0;32m   4186\u001b[0m                 \u001b[0mnew_axis\u001b[0m \u001b[1;33m=\u001b[0m \u001b[0maxis\u001b[0m\u001b[1;33m.\u001b[0m\u001b[0mdrop\u001b[0m\u001b[1;33m(\u001b[0m\u001b[0mlabels\u001b[0m\u001b[1;33m,\u001b[0m \u001b[0mlevel\u001b[0m\u001b[1;33m=\u001b[0m\u001b[0mlevel\u001b[0m\u001b[1;33m,\u001b[0m \u001b[0merrors\u001b[0m\u001b[1;33m=\u001b[0m\u001b[0merrors\u001b[0m\u001b[1;33m)\u001b[0m\u001b[1;33m\u001b[0m\u001b[1;33m\u001b[0m\u001b[0m\n\u001b[0;32m   4187\u001b[0m             \u001b[1;32melse\u001b[0m\u001b[1;33m:\u001b[0m\u001b[1;33m\u001b[0m\u001b[1;33m\u001b[0m\u001b[0m\n\u001b[1;32m-> 4188\u001b[1;33m                 \u001b[0mnew_axis\u001b[0m \u001b[1;33m=\u001b[0m \u001b[0maxis\u001b[0m\u001b[1;33m.\u001b[0m\u001b[0mdrop\u001b[0m\u001b[1;33m(\u001b[0m\u001b[0mlabels\u001b[0m\u001b[1;33m,\u001b[0m \u001b[0merrors\u001b[0m\u001b[1;33m=\u001b[0m\u001b[0merrors\u001b[0m\u001b[1;33m)\u001b[0m\u001b[1;33m\u001b[0m\u001b[1;33m\u001b[0m\u001b[0m\n\u001b[0m\u001b[0;32m   4189\u001b[0m             \u001b[0mresult\u001b[0m \u001b[1;33m=\u001b[0m \u001b[0mself\u001b[0m\u001b[1;33m.\u001b[0m\u001b[0mreindex\u001b[0m\u001b[1;33m(\u001b[0m\u001b[1;33m**\u001b[0m\u001b[1;33m{\u001b[0m\u001b[0maxis_name\u001b[0m\u001b[1;33m:\u001b[0m \u001b[0mnew_axis\u001b[0m\u001b[1;33m}\u001b[0m\u001b[1;33m)\u001b[0m\u001b[1;33m\u001b[0m\u001b[1;33m\u001b[0m\u001b[0m\n\u001b[0;32m   4190\u001b[0m \u001b[1;33m\u001b[0m\u001b[0m\n",
      "\u001b[1;32mC:\\Users\\Public\\New folder\\lib\\site-packages\\pandas\\core\\indexes\\base.py\u001b[0m in \u001b[0;36mdrop\u001b[1;34m(self, labels, errors)\u001b[0m\n\u001b[0;32m   5589\u001b[0m         \u001b[1;32mif\u001b[0m \u001b[0mmask\u001b[0m\u001b[1;33m.\u001b[0m\u001b[0many\u001b[0m\u001b[1;33m(\u001b[0m\u001b[1;33m)\u001b[0m\u001b[1;33m:\u001b[0m\u001b[1;33m\u001b[0m\u001b[1;33m\u001b[0m\u001b[0m\n\u001b[0;32m   5590\u001b[0m             \u001b[1;32mif\u001b[0m \u001b[0merrors\u001b[0m \u001b[1;33m!=\u001b[0m \u001b[1;34m\"ignore\"\u001b[0m\u001b[1;33m:\u001b[0m\u001b[1;33m\u001b[0m\u001b[1;33m\u001b[0m\u001b[0m\n\u001b[1;32m-> 5591\u001b[1;33m                 \u001b[1;32mraise\u001b[0m \u001b[0mKeyError\u001b[0m\u001b[1;33m(\u001b[0m\u001b[1;34mf\"{labels[mask]} not found in axis\"\u001b[0m\u001b[1;33m)\u001b[0m\u001b[1;33m\u001b[0m\u001b[1;33m\u001b[0m\u001b[0m\n\u001b[0m\u001b[0;32m   5592\u001b[0m             \u001b[0mindexer\u001b[0m \u001b[1;33m=\u001b[0m \u001b[0mindexer\u001b[0m\u001b[1;33m[\u001b[0m\u001b[1;33m~\u001b[0m\u001b[0mmask\u001b[0m\u001b[1;33m]\u001b[0m\u001b[1;33m\u001b[0m\u001b[1;33m\u001b[0m\u001b[0m\n\u001b[0;32m   5593\u001b[0m         \u001b[1;32mreturn\u001b[0m \u001b[0mself\u001b[0m\u001b[1;33m.\u001b[0m\u001b[0mdelete\u001b[0m\u001b[1;33m(\u001b[0m\u001b[0mindexer\u001b[0m\u001b[1;33m)\u001b[0m\u001b[1;33m\u001b[0m\u001b[1;33m\u001b[0m\u001b[0m\n",
      "\u001b[1;31mKeyError\u001b[0m: \"['mentally_ill'] not found in axis\""
     ]
    }
   ],
   "source": [
    "# split data into features amd target\n",
    "\n",
    "X = df2_new.drop(['mentally_ill'], axis= 1)\n",
    "y = df2_new['mentally_ill']"
   ]
  },
  {
   "cell_type": "code",
   "execution_count": 120,
   "metadata": {},
   "outputs": [
    {
     "data": {
      "text/plain": [
       "No               108\n",
       "I do not know     30\n",
       "Yes                7\n",
       "Name: mentally_ill, dtype: int64"
      ]
     },
     "execution_count": 120,
     "metadata": {},
     "output_type": "execute_result"
    }
   ],
   "source": [
    "# This shows that the target variable is an imbalanced class and therefore we need to solve this problem\n",
    "y.value_counts()"
   ]
  },
  {
   "cell_type": "code",
   "execution_count": 121,
   "metadata": {},
   "outputs": [
    {
     "data": {
      "text/html": [
       "<div>\n",
       "<style scoped>\n",
       "    .dataframe tbody tr th:only-of-type {\n",
       "        vertical-align: middle;\n",
       "    }\n",
       "\n",
       "    .dataframe tbody tr th {\n",
       "        vertical-align: top;\n",
       "    }\n",
       "\n",
       "    .dataframe thead th {\n",
       "        text-align: right;\n",
       "    }\n",
       "</style>\n",
       "<table border=\"1\" class=\"dataframe\">\n",
       "  <thead>\n",
       "    <tr style=\"text-align: right;\">\n",
       "      <th></th>\n",
       "      <th>level</th>\n",
       "      <th>age</th>\n",
       "      <th>hardest_level</th>\n",
       "      <th>fin_crisis</th>\n",
       "      <th>emo_crisis</th>\n",
       "      <th>exam_burnout</th>\n",
       "      <th>sleep_avg</th>\n",
       "      <th>self_esteem</th>\n",
       "      <th>social_issues</th>\n",
       "      <th>concentration_reduced</th>\n",
       "      <th>assessment</th>\n",
       "      <th>familial_history</th>\n",
       "      <th>extracurricular</th>\n",
       "      <th>suicidal_thoughts</th>\n",
       "    </tr>\n",
       "  </thead>\n",
       "  <tbody>\n",
       "    <tr>\n",
       "      <th>1</th>\n",
       "      <td>Basic Medical(100-300)</td>\n",
       "      <td>21-24</td>\n",
       "      <td>100</td>\n",
       "      <td>No</td>\n",
       "      <td>No</td>\n",
       "      <td>No</td>\n",
       "      <td>6-8 hours</td>\n",
       "      <td>Yes</td>\n",
       "      <td>Yes</td>\n",
       "      <td>No</td>\n",
       "      <td>Average</td>\n",
       "      <td>No</td>\n",
       "      <td>Yes</td>\n",
       "      <td>No</td>\n",
       "    </tr>\n",
       "    <tr>\n",
       "      <th>2</th>\n",
       "      <td>Basic Medical(100-300)</td>\n",
       "      <td>21-24</td>\n",
       "      <td>300</td>\n",
       "      <td>Yes</td>\n",
       "      <td>Yes</td>\n",
       "      <td>Yes</td>\n",
       "      <td>6-8 hours</td>\n",
       "      <td>Yes</td>\n",
       "      <td>No</td>\n",
       "      <td>No</td>\n",
       "      <td>Average</td>\n",
       "      <td>No</td>\n",
       "      <td>Yes</td>\n",
       "      <td>No</td>\n",
       "    </tr>\n",
       "  </tbody>\n",
       "</table>\n",
       "</div>"
      ],
      "text/plain": [
       "                    level    age hardest_level fin_crisis emo_crisis  \\\n",
       "1  Basic Medical(100-300)  21-24           100         No         No   \n",
       "2  Basic Medical(100-300)  21-24           300        Yes        Yes   \n",
       "\n",
       "  exam_burnout  sleep_avg self_esteem social_issues concentration_reduced  \\\n",
       "1           No  6-8 hours         Yes           Yes                    No   \n",
       "2          Yes  6-8 hours         Yes            No                    No   \n",
       "\n",
       "  assessment familial_history extracurricular suicidal_thoughts  \n",
       "1    Average               No             Yes                No  \n",
       "2    Average               No             Yes                No  "
      ]
     },
     "execution_count": 121,
     "metadata": {},
     "output_type": "execute_result"
    }
   ],
   "source": [
    "X.head(2)"
   ]
  },
  {
   "cell_type": "code",
   "execution_count": 61,
   "metadata": {},
   "outputs": [
    {
     "data": {
      "text/plain": [
       "1    0\n",
       "2    1\n",
       "Name: mentally_ill, dtype: int64"
      ]
     },
     "execution_count": 61,
     "metadata": {},
     "output_type": "execute_result"
    }
   ],
   "source": [
    "y.head(2)"
   ]
  },
  {
   "cell_type": "code",
   "execution_count": 62,
   "metadata": {},
   "outputs": [],
   "source": [
    "X_train, X_test, y_train, y_test= train_test_split(X, y, test_size = 0.2, random_state=1234)"
   ]
  },
  {
   "cell_type": "markdown",
   "metadata": {},
   "source": [
    "## RESAMPLING"
   ]
  },
  {
   "cell_type": "code",
   "execution_count": 63,
   "metadata": {},
   "outputs": [],
   "source": [
    "from sklearn.utils import resample\n",
    "\n",
    "# concatenate our training data back together\n",
    "X = pd.concat([X_train, y_train], axis=1)"
   ]
  },
  {
   "cell_type": "code",
   "execution_count": 64,
   "metadata": {},
   "outputs": [
    {
     "data": {
      "text/html": [
       "<div>\n",
       "<style scoped>\n",
       "    .dataframe tbody tr th:only-of-type {\n",
       "        vertical-align: middle;\n",
       "    }\n",
       "\n",
       "    .dataframe tbody tr th {\n",
       "        vertical-align: top;\n",
       "    }\n",
       "\n",
       "    .dataframe thead th {\n",
       "        text-align: right;\n",
       "    }\n",
       "</style>\n",
       "<table border=\"1\" class=\"dataframe\">\n",
       "  <thead>\n",
       "    <tr style=\"text-align: right;\">\n",
       "      <th></th>\n",
       "      <th>level</th>\n",
       "      <th>age</th>\n",
       "      <th>Religion</th>\n",
       "      <th>married</th>\n",
       "      <th>parents</th>\n",
       "      <th>fin_crisis</th>\n",
       "      <th>emo_crisis</th>\n",
       "      <th>sleep_avg</th>\n",
       "      <th>exam_burnout</th>\n",
       "      <th>Have you ever been hospitalized for a mental illness?</th>\n",
       "      <th>...</th>\n",
       "      <th>resit</th>\n",
       "      <th>repeated</th>\n",
       "      <th>department_change</th>\n",
       "      <th>suicidal_thoughts</th>\n",
       "      <th>mental_illness_experience</th>\n",
       "      <th>mental_illness_diagnosis</th>\n",
       "      <th>underdiagnosis_reason</th>\n",
       "      <th>visit_to_expert</th>\n",
       "      <th>stress</th>\n",
       "      <th>mentally_ill</th>\n",
       "    </tr>\n",
       "  </thead>\n",
       "  <tbody>\n",
       "    <tr>\n",
       "      <th>9</th>\n",
       "      <td>1</td>\n",
       "      <td>1</td>\n",
       "      <td>1</td>\n",
       "      <td>0</td>\n",
       "      <td>0</td>\n",
       "      <td>1</td>\n",
       "      <td>1</td>\n",
       "      <td>2</td>\n",
       "      <td>1</td>\n",
       "      <td>0</td>\n",
       "      <td>...</td>\n",
       "      <td>0</td>\n",
       "      <td>0</td>\n",
       "      <td>1</td>\n",
       "      <td>0</td>\n",
       "      <td>0</td>\n",
       "      <td>0</td>\n",
       "      <td>1</td>\n",
       "      <td>0</td>\n",
       "      <td>1</td>\n",
       "      <td>0</td>\n",
       "    </tr>\n",
       "    <tr>\n",
       "      <th>65</th>\n",
       "      <td>1</td>\n",
       "      <td>1</td>\n",
       "      <td>1</td>\n",
       "      <td>0</td>\n",
       "      <td>0</td>\n",
       "      <td>1</td>\n",
       "      <td>1</td>\n",
       "      <td>0</td>\n",
       "      <td>1</td>\n",
       "      <td>0</td>\n",
       "      <td>...</td>\n",
       "      <td>0</td>\n",
       "      <td>0</td>\n",
       "      <td>1</td>\n",
       "      <td>0</td>\n",
       "      <td>0</td>\n",
       "      <td>0</td>\n",
       "      <td>1</td>\n",
       "      <td>0</td>\n",
       "      <td>0</td>\n",
       "      <td>0</td>\n",
       "    </tr>\n",
       "    <tr>\n",
       "      <th>25</th>\n",
       "      <td>1</td>\n",
       "      <td>0</td>\n",
       "      <td>1</td>\n",
       "      <td>0</td>\n",
       "      <td>0</td>\n",
       "      <td>1</td>\n",
       "      <td>0</td>\n",
       "      <td>0</td>\n",
       "      <td>1</td>\n",
       "      <td>0</td>\n",
       "      <td>...</td>\n",
       "      <td>0</td>\n",
       "      <td>0</td>\n",
       "      <td>0</td>\n",
       "      <td>1</td>\n",
       "      <td>0</td>\n",
       "      <td>1</td>\n",
       "      <td>1</td>\n",
       "      <td>0</td>\n",
       "      <td>1</td>\n",
       "      <td>1</td>\n",
       "    </tr>\n",
       "    <tr>\n",
       "      <th>23</th>\n",
       "      <td>1</td>\n",
       "      <td>1</td>\n",
       "      <td>1</td>\n",
       "      <td>0</td>\n",
       "      <td>0</td>\n",
       "      <td>1</td>\n",
       "      <td>1</td>\n",
       "      <td>0</td>\n",
       "      <td>1</td>\n",
       "      <td>0</td>\n",
       "      <td>...</td>\n",
       "      <td>0</td>\n",
       "      <td>1</td>\n",
       "      <td>1</td>\n",
       "      <td>1</td>\n",
       "      <td>1</td>\n",
       "      <td>1</td>\n",
       "      <td>1</td>\n",
       "      <td>1</td>\n",
       "      <td>1</td>\n",
       "      <td>1</td>\n",
       "    </tr>\n",
       "    <tr>\n",
       "      <th>74</th>\n",
       "      <td>1</td>\n",
       "      <td>1</td>\n",
       "      <td>0</td>\n",
       "      <td>0</td>\n",
       "      <td>0</td>\n",
       "      <td>0</td>\n",
       "      <td>0</td>\n",
       "      <td>0</td>\n",
       "      <td>0</td>\n",
       "      <td>0</td>\n",
       "      <td>...</td>\n",
       "      <td>0</td>\n",
       "      <td>0</td>\n",
       "      <td>0</td>\n",
       "      <td>0</td>\n",
       "      <td>0</td>\n",
       "      <td>1</td>\n",
       "      <td>1</td>\n",
       "      <td>0</td>\n",
       "      <td>1</td>\n",
       "      <td>0</td>\n",
       "    </tr>\n",
       "  </tbody>\n",
       "</table>\n",
       "<p>5 rows × 34 columns</p>\n",
       "</div>"
      ],
      "text/plain": [
       "    level  age  Religion  married  parents  fin_crisis  emo_crisis  sleep_avg  \\\n",
       "9       1    1         1        0        0           1           1          2   \n",
       "65      1    1         1        0        0           1           1          0   \n",
       "25      1    0         1        0        0           1           0          0   \n",
       "23      1    1         1        0        0           1           1          0   \n",
       "74      1    1         0        0        0           0           0          0   \n",
       "\n",
       "    exam_burnout  Have you ever been hospitalized for a mental illness?   ...  \\\n",
       "9              1                                                  0       ...   \n",
       "65             1                                                  0       ...   \n",
       "25             1                                                  0       ...   \n",
       "23             1                                                  0       ...   \n",
       "74             0                                                  0       ...   \n",
       "\n",
       "    resit  repeated  department_change  suicidal_thoughts  \\\n",
       "9       0         0                  1                  0   \n",
       "65      0         0                  1                  0   \n",
       "25      0         0                  0                  1   \n",
       "23      0         1                  1                  1   \n",
       "74      0         0                  0                  0   \n",
       "\n",
       "    mental_illness_experience  mental_illness_diagnosis  \\\n",
       "9                           0                         0   \n",
       "65                          0                         0   \n",
       "25                          0                         1   \n",
       "23                          1                         1   \n",
       "74                          0                         1   \n",
       "\n",
       "    underdiagnosis_reason  visit_to_expert  stress  mentally_ill  \n",
       "9                       1                0       1             0  \n",
       "65                      1                0       0             0  \n",
       "25                      1                0       1             1  \n",
       "23                      1                1       1             1  \n",
       "74                      1                0       1             0  \n",
       "\n",
       "[5 rows x 34 columns]"
      ]
     },
     "execution_count": 64,
     "metadata": {},
     "output_type": "execute_result"
    }
   ],
   "source": [
    "X.head()"
   ]
  },
  {
   "cell_type": "code",
   "execution_count": 65,
   "metadata": {},
   "outputs": [
    {
     "data": {
      "text/plain": [
       "116"
      ]
     },
     "execution_count": 65,
     "metadata": {},
     "output_type": "execute_result"
    }
   ],
   "source": [
    "len(X)"
   ]
  },
  {
   "cell_type": "code",
   "execution_count": 66,
   "metadata": {},
   "outputs": [],
   "source": [
    "# separate minority and majority classes\n",
    "no_illness = X[X.mentally_ill==0]\n",
    "illness = X[X.mentally_ill==1]"
   ]
  },
  {
   "cell_type": "code",
   "execution_count": 67,
   "metadata": {},
   "outputs": [
    {
     "name": "stdout",
     "output_type": "stream",
     "text": [
      "30\n",
      "86\n"
     ]
    }
   ],
   "source": [
    "print(len(illness))\n",
    "print(len(no_illness))"
   ]
  },
  {
   "cell_type": "markdown",
   "metadata": {},
   "source": [
    "## Upsampling"
   ]
  },
  {
   "cell_type": "code",
   "execution_count": 68,
   "metadata": {},
   "outputs": [
    {
     "data": {
      "text/plain": [
       "0    86\n",
       "1    86\n",
       "Name: mentally_ill, dtype: int64"
      ]
     },
     "execution_count": 68,
     "metadata": {},
     "output_type": "execute_result"
    }
   ],
   "source": [
    "# upsample minority\n",
    "illness_upsampled = resample(illness,\n",
    "                          replace=True, # sample with replacement\n",
    "                          n_samples=len(no_illness), # match number in majority class\n",
    "                          random_state=27) # reproducible results\n",
    "\n",
    "# combine majority and upsampled minority\n",
    "upsampled = pd.concat([no_illness, illness_upsampled])\n",
    "\n",
    "# check new class counts\n",
    "upsampled.mentally_ill.value_counts()"
   ]
  },
  {
   "cell_type": "code",
   "execution_count": 69,
   "metadata": {},
   "outputs": [
    {
     "data": {
      "text/plain": [
       "0    108\n",
       "1     37\n",
       "Name: mentally_ill, dtype: int64"
      ]
     },
     "execution_count": 69,
     "metadata": {},
     "output_type": "execute_result"
    }
   ],
   "source": [
    "y.value_counts()"
   ]
  },
  {
   "cell_type": "code",
   "execution_count": 70,
   "metadata": {
    "scrolled": true
   },
   "outputs": [
    {
     "data": {
      "text/plain": [
       "RandomForestClassifier()"
      ]
     },
     "execution_count": 70,
     "metadata": {},
     "output_type": "execute_result"
    }
   ],
   "source": [
    "from sklearn.ensemble import RandomForestClassifier\n",
    "\n",
    "randomforestmodel = RandomForestClassifier()\n",
    "randomforestmodel.fit(X_train, y_train)"
   ]
  },
  {
   "cell_type": "code",
   "execution_count": 71,
   "metadata": {},
   "outputs": [],
   "source": [
    "randomforestmodel_prediction = randomforestmodel.predict(X_test)"
   ]
  },
  {
   "cell_type": "code",
   "execution_count": 74,
   "metadata": {
    "scrolled": true
   },
   "outputs": [
    {
     "data": {
      "image/png": "[encoded data removed]",
      "text/plain": [
       "<Figure size 504x360 with 1 Axes>"
      ]
     },
     "metadata": {
      "needs_background": "light"
     },
     "output_type": "display_data"
    }
   ],
   "source": [
    "ConfusionMatrix(y_test, randomforestmodel_prediction, label= ['not_mentally_ill', 'mentally_ill'])"
   ]
  },
  {
   "cell_type": "code",
   "execution_count": 75,
   "metadata": {
    "scrolled": true
   },
   "outputs": [
    {
     "data": {
      "text/plain": [
       "0.8620689655172413"
      ]
     },
     "execution_count": 75,
     "metadata": {},
     "output_type": "execute_result"
    }
   ],
   "source": [
    "metrics.accuracy_score(y_test, randomforestmodel_prediction)"
   ]
  },
  {
   "cell_type": "code",
   "execution_count": 76,
   "metadata": {},
   "outputs": [
    {
     "data": {
      "text/plain": [
       "0.7142857142857143"
      ]
     },
     "execution_count": 76,
     "metadata": {},
     "output_type": "execute_result"
    }
   ],
   "source": [
    "metrics.f1_score(y_test, randomforestmodel_prediction)"
   ]
  },
  {
   "cell_type": "markdown",
   "metadata": {},
   "source": [
    "## Saving the model"
   ]
  },
  {
   "cell_type": "code",
   "execution_count": 77,
   "metadata": {},
   "outputs": [],
   "source": [
    "import pickle"
   ]
  },
  {
   "cell_type": "code",
   "execution_count": 79,
   "metadata": {},
   "outputs": [],
   "source": [
    "filename = 'finalized_model.sav'"
   ]
  },
  {
   "cell_type": "code",
   "execution_count": 80,
   "metadata": {},
   "outputs": [],
   "source": [
    "# Save the model to disk\n",
    "pickle.dump(randomforestmodel, open(filename, 'wb'))"
   ]
  },
  {
   "cell_type": "code",
   "execution_count": null,
   "metadata": {},
   "outputs": [],
   "source": []
  },
  {
   "cell_type": "markdown",
   "metadata": {},
   "source": [
    "## Logistic Regression"
   ]
  },
  {
   "cell_type": "code",
   "execution_count": 65,
   "metadata": {},
   "outputs": [
    {
     "data": {
      "text/plain": [
       "LogisticRegression()"
      ]
     },
     "execution_count": 65,
     "metadata": {},
     "output_type": "execute_result"
    }
   ],
   "source": [
    "from sklearn.linear_model import LogisticRegression\n",
    "logisticmodel = LogisticRegression()\n",
    "logisticmodel.fit(X_train, y_train)"
   ]
  },
  {
   "cell_type": "code",
   "execution_count": 66,
   "metadata": {},
   "outputs": [],
   "source": [
    "logisticmodel_prediction = logisticmodel.predict(X_test)"
   ]
  },
  {
   "cell_type": "code",
   "execution_count": 73,
   "metadata": {},
   "outputs": [],
   "source": [
    "# Model Evaluation\n",
    "\n",
    "def ConfusionMatrix(ytest, ypred, label = ['Negative', 'Positive']):\n",
    "    from sklearn.metrics import confusion_matrix\n",
    "    import seaborn as sns\n",
    "    cm = confusion_matrix(ytest, ypred)\n",
    "    plt.figure(figsize=(7,5))\n",
    "    sns.heatmap(cm, annot = True, cbar= False, fmt= 'd', cmap = 'YlGnBu')\n",
    "    plt.xlabel('Predicted', fontsize= 13)\n",
    "    plt.xticks([0.5, 1.5], label)\n",
    "    plt.yticks([0.5, 1.5], label)\n",
    "    plt.ylabel('Truth', fontsize = 13)\n",
    "    plt.title('A confusion matrix')\n",
    "    "
   ]
  },
  {
   "cell_type": "code",
   "execution_count": 68,
   "metadata": {},
   "outputs": [
    {
     "data": {
      "image/png": "[encoded data removed]",
      "text/plain": [
       "<Figure size 504x360 with 1 Axes>"
      ]
     },
     "metadata": {
      "needs_background": "light"
     },
     "output_type": "display_data"
    }
   ],
   "source": [
    "ConfusionMatrix(y_test, logisticmodel_prediction, label=['not_mentally_ill', 'mentally_ill'])"
   ]
  },
  {
   "cell_type": "markdown",
   "metadata": {},
   "source": [
    "### Interpretation of Logistics Regression model evaluation performance\n",
    "\n",
    "\n",
    "There are 19 True Negatives (TN): predicting that the patient will not have a mental health problem and truly the patient did not have\n",
    "\n",
    "There are 2 False Negatives (FN): predicting that the patient will not have a mental health problem BUT the patient actually had"
   ]
  },
  {
   "cell_type": "code",
   "execution_count": 69,
   "metadata": {},
   "outputs": [],
   "source": [
    "# Accuracy of the model"
   ]
  },
  {
   "cell_type": "code",
   "execution_count": 70,
   "metadata": {},
   "outputs": [
    {
     "data": {
      "text/plain": [
       "0.8275862068965517"
      ]
     },
     "execution_count": 70,
     "metadata": {},
     "output_type": "execute_result"
    }
   ],
   "source": [
    "metrics.accuracy_score(y_test, logisticmodel_prediction)"
   ]
  },
  {
   "cell_type": "code",
   "execution_count": 71,
   "metadata": {},
   "outputs": [
    {
     "data": {
      "text/plain": [
       "0.6666666666666666"
      ]
     },
     "execution_count": 71,
     "metadata": {},
     "output_type": "execute_result"
    }
   ],
   "source": [
    "metrics.f1_score(y_test, logisticmodel_prediction)"
   ]
  },
  {
   "cell_type": "code",
   "execution_count": null,
   "metadata": {},
   "outputs": [],
   "source": []
  },
  {
   "cell_type": "markdown",
   "metadata": {},
   "source": [
    "## NAIVE BAYES MODEL"
   ]
  },
  {
   "cell_type": "code",
   "execution_count": 72,
   "metadata": {},
   "outputs": [
    {
     "data": {
      "text/plain": [
       "GaussianNB()"
      ]
     },
     "execution_count": 72,
     "metadata": {},
     "output_type": "execute_result"
    }
   ],
   "source": [
    "from sklearn.naive_bayes import GaussianNB\n",
    "\n",
    "naivemodel = GaussianNB()\n",
    "\n",
    "naivemodel.fit(X_train, y_train)"
   ]
  },
  {
   "cell_type": "code",
   "execution_count": 73,
   "metadata": {},
   "outputs": [],
   "source": [
    "naivemodel_prediction = naivemodel.predict(X_test)"
   ]
  },
  {
   "cell_type": "code",
   "execution_count": 74,
   "metadata": {},
   "outputs": [
    {
     "data": {
      "image/png": "[encoded data removed]",
      "text/plain": [
       "<Figure size 504x360 with 1 Axes>"
      ]
     },
     "metadata": {
      "needs_background": "light"
     },
     "output_type": "display_data"
    }
   ],
   "source": [
    "ConfusionMatrix(y_test, naivemodel_prediction, label= ['Not_mentally_ill', 'mentally_ill'])"
   ]
  },
  {
   "cell_type": "code",
   "execution_count": 75,
   "metadata": {},
   "outputs": [
    {
     "data": {
      "text/plain": [
       "0.7931034482758621"
      ]
     },
     "execution_count": 75,
     "metadata": {},
     "output_type": "execute_result"
    }
   ],
   "source": [
    "metrics.accuracy_score(y_test, naivemodel_prediction)"
   ]
  },
  {
   "cell_type": "code",
   "execution_count": 76,
   "metadata": {},
   "outputs": [
    {
     "data": {
      "text/plain": [
       "0.5"
      ]
     },
     "execution_count": 76,
     "metadata": {},
     "output_type": "execute_result"
    }
   ],
   "source": [
    "metrics.f1_score(y_test, naivemodel_prediction)"
   ]
  },
  {
   "cell_type": "code",
   "execution_count": null,
   "metadata": {},
   "outputs": [],
   "source": []
  },
  {
   "cell_type": "markdown",
   "metadata": {},
   "source": [
    "### RANDOM FOREST MODEL"
   ]
  },
  {
   "cell_type": "markdown",
   "metadata": {},
   "source": [
    "### Extreme Gradient Boost (XGBoost) Model"
   ]
  },
  {
   "cell_type": "code",
   "execution_count": 82,
   "metadata": {},
   "outputs": [
    {
     "name": "stderr",
     "output_type": "stream",
     "text": [
      "C:\\Users\\Public\\New folder\\lib\\site-packages\\xgboost\\sklearn.py:1146: UserWarning: The use of label encoder in XGBClassifier is deprecated and will be removed in a future release. To remove this warning, do the following: 1) Pass option use_label_encoder=False when constructing XGBClassifier object; and 2) Encode your labels (y) as integers starting with 0, i.e. 0, 1, 2, ..., [num_class - 1].\n",
      "  warnings.warn(label_encoder_deprecation_msg, UserWarning)\n"
     ]
    },
    {
     "name": "stdout",
     "output_type": "stream",
     "text": [
      "[17:41:19] WARNING: C:/Users/Administrator/workspace/xgboost-win64_release_1.4.0/src/learner.cc:1095: Starting in XGBoost 1.3.0, the default evaluation metric used with the objective 'binary:logistic' was changed from 'error' to 'logloss'. Explicitly set eval_metric if you'd like to restore the old behavior.\n"
     ]
    }
   ],
   "source": [
    "from xgboost import XGBClassifier\n",
    "\n",
    "xgboostmodel = XGBClassifier()\n",
    "xgboostmodel_ = xgboostmodel.fit(X_train, y_train)"
   ]
  },
  {
   "cell_type": "code",
   "execution_count": 83,
   "metadata": {},
   "outputs": [],
   "source": [
    "xgboostmodel_prediction = xgboostmodel_.predict(X_test)"
   ]
  },
  {
   "cell_type": "code",
   "execution_count": 84,
   "metadata": {
    "scrolled": true
   },
   "outputs": [
    {
     "data": {
      "image/png": "[encoded data removed]",
      "text/plain": [
       "<Figure size 504x360 with 1 Axes>"
      ]
     },
     "metadata": {
      "needs_background": "light"
     },
     "output_type": "display_data"
    }
   ],
   "source": [
    "ConfusionMatrix(y_test, xgboostmodel_prediction, label=['not_mentally_ill', 'mentally_ill'])"
   ]
  },
  {
   "cell_type": "code",
   "execution_count": 85,
   "metadata": {},
   "outputs": [
    {
     "data": {
      "text/plain": [
       "0.8620689655172413"
      ]
     },
     "execution_count": 85,
     "metadata": {},
     "output_type": "execute_result"
    }
   ],
   "source": [
    "metrics.accuracy_score(y_test, xgboostmodel_prediction)"
   ]
  },
  {
   "cell_type": "code",
   "execution_count": 86,
   "metadata": {},
   "outputs": [
    {
     "data": {
      "text/plain": [
       "0.75"
      ]
     },
     "execution_count": 86,
     "metadata": {},
     "output_type": "execute_result"
    }
   ],
   "source": [
    "metrics.f1_score(y_test, xgboostmodel_prediction)"
   ]
  },
  {
   "cell_type": "markdown",
   "metadata": {},
   "source": [
    "## SUPPORT VECTOR MACHINE"
   ]
  },
  {
   "cell_type": "code",
   "execution_count": 87,
   "metadata": {},
   "outputs": [
    {
     "data": {
      "text/plain": [
       "SVC()"
      ]
     },
     "execution_count": 87,
     "metadata": {},
     "output_type": "execute_result"
    }
   ],
   "source": [
    "from sklearn.svm import SVC\n",
    "\n",
    "SVMmodel = SVC()\n",
    "SVMmodel.fit(X_train, y_train)"
   ]
  },
  {
   "cell_type": "code",
   "execution_count": 88,
   "metadata": {},
   "outputs": [],
   "source": [
    "SVMmodel_prediction = SVMmodel.predict(X_test)"
   ]
  },
  {
   "cell_type": "code",
   "execution_count": 89,
   "metadata": {},
   "outputs": [
    {
     "data": {
      "image/png": "[encoded data removed]",
      "text/plain": [
       "<Figure size 504x360 with 1 Axes>"
      ]
     },
     "metadata": {
      "needs_background": "light"
     },
     "output_type": "display_data"
    }
   ],
   "source": [
    "ConfusionMatrix(y_test, SVMmodel_prediction, label= ['not_mentally_ill','mentally_ill'])"
   ]
  },
  {
   "cell_type": "code",
   "execution_count": 90,
   "metadata": {},
   "outputs": [
    {
     "data": {
      "text/plain": [
       "0.8275862068965517"
      ]
     },
     "execution_count": 90,
     "metadata": {},
     "output_type": "execute_result"
    }
   ],
   "source": [
    "metrics.accuracy_score(y_test, SVMmodel_prediction)"
   ]
  },
  {
   "cell_type": "code",
   "execution_count": 91,
   "metadata": {},
   "outputs": [
    {
     "data": {
      "text/plain": [
       "0.4444444444444445"
      ]
     },
     "execution_count": 91,
     "metadata": {},
     "output_type": "execute_result"
    }
   ],
   "source": [
    "metrics.f1_score(y_test, SVMmodel_prediction)"
   ]
  }
 ],
 "metadata": {
  "kernelspec": {
   "display_name": "Python 3",
   "language": "python",
   "name": "python3"
  },
  "language_info": {
   "codemirror_mode": {
    "name": "ipython",
    "version": 3
   },
   "file_extension": ".py",
   "mimetype": "text/x-python",
   "name": "python",
   "nbconvert_exporter": "python",
   "pygments_lexer": "ipython3",
   "version": "3.8.8"
  }
 },
 "nbformat": 4,
 "nbformat_minor": 4
}
